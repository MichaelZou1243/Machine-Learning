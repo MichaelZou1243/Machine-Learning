{
 "cells": [
  {
   "cell_type": "markdown",
   "id": "9ac88923-231e-4f4e-a03c-b9ab9cdcb0be",
   "metadata": {},
   "source": [
    "## Final Project\n",
    "##### Author: Jiawei Zou (jzou43@wisc.edu)\n",
    "##### Time: Dec 21st,2023\n",
    "##### The competition link in Kaggle: https://www.kaggle.com/competitions/autoam-car-price-prediction"
   ]
  },
  {
   "cell_type": "code",
   "execution_count": 1,
   "id": "20a8885f-a4b4-4542-a3a2-c0454b465c46",
   "metadata": {
    "tags": []
   },
   "outputs": [],
   "source": [
    "import numpy as np\n",
    "import matplotlib.pyplot as plt\n",
    "import pandas as pd\n",
    "import seaborn as sns\n",
    "import tensorflow as tf\n",
    "\n",
    "from sklearn.model_selection import train_test_split\n",
    "from sklearn.linear_model import LogisticRegression\n",
    "from sklearn.discriminant_analysis import LinearDiscriminantAnalysis\n",
    "from sklearn.discriminant_analysis import QuadraticDiscriminantAnalysis\n",
    "from sklearn.tree import DecisionTreeClassifier\n",
    "from sklearn.model_selection import GridSearchCV\n",
    "from sklearn.ensemble import RandomForestClassifier, RandomForestRegressor, GradientBoostingRegressor\n",
    "from sklearn.metrics import mean_squared_error\n",
    "from sklearn.model_selection import cross_val_score, KFold\n",
    "from sklearn.linear_model import LinearRegression, Lasso, LassoCV\n",
    "from sklearn.metrics import mean_absolute_error\n",
    "from sklearn.metrics import r2_score\n",
    "from sklearn.preprocessing import MinMaxScaler\n",
    "from sklearn.preprocessing import OneHotEncoder\n",
    "from sklearn.ensemble import RandomForestClassifier"
   ]
  },
  {
   "cell_type": "markdown",
   "id": "043bfd6b-6ea0-4963-a8f8-c1548e572f06",
   "metadata": {},
   "source": [
    "### 1. Load the dataset and observe the characteristics of the data"
   ]
  },
  {
   "cell_type": "code",
   "execution_count": 2,
   "id": "1efa82dc-bc15-4867-ad7e-26bfc98af064",
   "metadata": {
    "tags": []
   },
   "outputs": [],
   "source": [
    "train_data=pd.read_csv('train.csv')\n",
    "test_data=pd.read_csv('test.csv').drop(\"Id\",axis=1)"
   ]
  },
  {
   "cell_type": "code",
   "execution_count": 3,
   "id": "b66ccf77-a3ca-4acf-aedf-5f1dda6dd743",
   "metadata": {
    "tags": []
   },
   "outputs": [
    {
     "data": {
      "text/html": [
       "<div>\n",
       "<style scoped>\n",
       "    .dataframe tbody tr th:only-of-type {\n",
       "        vertical-align: middle;\n",
       "    }\n",
       "\n",
       "    .dataframe tbody tr th {\n",
       "        vertical-align: top;\n",
       "    }\n",
       "\n",
       "    .dataframe thead th {\n",
       "        text-align: right;\n",
       "    }\n",
       "</style>\n",
       "<table border=\"1\" class=\"dataframe\">\n",
       "  <thead>\n",
       "    <tr style=\"text-align: right;\">\n",
       "      <th></th>\n",
       "      <th>model</th>\n",
       "      <th>year</th>\n",
       "      <th>motor_type</th>\n",
       "      <th>running</th>\n",
       "      <th>wheel</th>\n",
       "      <th>color</th>\n",
       "      <th>type</th>\n",
       "      <th>status</th>\n",
       "      <th>motor_volume</th>\n",
       "      <th>price</th>\n",
       "    </tr>\n",
       "  </thead>\n",
       "  <tbody>\n",
       "    <tr>\n",
       "      <th>0</th>\n",
       "      <td>toyota</td>\n",
       "      <td>2022</td>\n",
       "      <td>petrol</td>\n",
       "      <td>3000  km</td>\n",
       "      <td>left</td>\n",
       "      <td>skyblue</td>\n",
       "      <td>sedan</td>\n",
       "      <td>excellent</td>\n",
       "      <td>2.0</td>\n",
       "      <td>24500</td>\n",
       "    </tr>\n",
       "    <tr>\n",
       "      <th>1</th>\n",
       "      <td>mercedes-benz</td>\n",
       "      <td>2014</td>\n",
       "      <td>petrol</td>\n",
       "      <td>132000  km</td>\n",
       "      <td>left</td>\n",
       "      <td>black</td>\n",
       "      <td>sedan</td>\n",
       "      <td>excellent</td>\n",
       "      <td>2.0</td>\n",
       "      <td>25500</td>\n",
       "    </tr>\n",
       "    <tr>\n",
       "      <th>2</th>\n",
       "      <td>kia</td>\n",
       "      <td>2018</td>\n",
       "      <td>petrol</td>\n",
       "      <td>95000  miles</td>\n",
       "      <td>left</td>\n",
       "      <td>other</td>\n",
       "      <td>sedan</td>\n",
       "      <td>excellent</td>\n",
       "      <td>2.0</td>\n",
       "      <td>11700</td>\n",
       "    </tr>\n",
       "    <tr>\n",
       "      <th>3</th>\n",
       "      <td>mercedes-benz</td>\n",
       "      <td>2002</td>\n",
       "      <td>petrol</td>\n",
       "      <td>137000  miles</td>\n",
       "      <td>left</td>\n",
       "      <td>golden</td>\n",
       "      <td>sedan</td>\n",
       "      <td>excellent</td>\n",
       "      <td>3.2</td>\n",
       "      <td>12000</td>\n",
       "    </tr>\n",
       "    <tr>\n",
       "      <th>4</th>\n",
       "      <td>mercedes-benz</td>\n",
       "      <td>2017</td>\n",
       "      <td>petrol</td>\n",
       "      <td>130000  km</td>\n",
       "      <td>left</td>\n",
       "      <td>black</td>\n",
       "      <td>sedan</td>\n",
       "      <td>good</td>\n",
       "      <td>2.0</td>\n",
       "      <td>26000</td>\n",
       "    </tr>\n",
       "    <tr>\n",
       "      <th>...</th>\n",
       "      <td>...</td>\n",
       "      <td>...</td>\n",
       "      <td>...</td>\n",
       "      <td>...</td>\n",
       "      <td>...</td>\n",
       "      <td>...</td>\n",
       "      <td>...</td>\n",
       "      <td>...</td>\n",
       "      <td>...</td>\n",
       "      <td>...</td>\n",
       "    </tr>\n",
       "    <tr>\n",
       "      <th>1637</th>\n",
       "      <td>hyundai</td>\n",
       "      <td>2017</td>\n",
       "      <td>petrol</td>\n",
       "      <td>120000  miles</td>\n",
       "      <td>left</td>\n",
       "      <td>white</td>\n",
       "      <td>sedan</td>\n",
       "      <td>good</td>\n",
       "      <td>2.0</td>\n",
       "      <td>12400</td>\n",
       "    </tr>\n",
       "    <tr>\n",
       "      <th>1638</th>\n",
       "      <td>toyota</td>\n",
       "      <td>2014</td>\n",
       "      <td>petrol</td>\n",
       "      <td>170000  km</td>\n",
       "      <td>left</td>\n",
       "      <td>black</td>\n",
       "      <td>sedan</td>\n",
       "      <td>good</td>\n",
       "      <td>2.0</td>\n",
       "      <td>16500</td>\n",
       "    </tr>\n",
       "    <tr>\n",
       "      <th>1639</th>\n",
       "      <td>nissan</td>\n",
       "      <td>2018</td>\n",
       "      <td>petrol</td>\n",
       "      <td>68900  miles</td>\n",
       "      <td>left</td>\n",
       "      <td>blue</td>\n",
       "      <td>suv</td>\n",
       "      <td>good</td>\n",
       "      <td>2.0</td>\n",
       "      <td>19500</td>\n",
       "    </tr>\n",
       "    <tr>\n",
       "      <th>1640</th>\n",
       "      <td>nissan</td>\n",
       "      <td>2019</td>\n",
       "      <td>petrol</td>\n",
       "      <td>31000  miles</td>\n",
       "      <td>left</td>\n",
       "      <td>black</td>\n",
       "      <td>suv</td>\n",
       "      <td>excellent</td>\n",
       "      <td>2.0</td>\n",
       "      <td>19500</td>\n",
       "    </tr>\n",
       "    <tr>\n",
       "      <th>1641</th>\n",
       "      <td>toyota</td>\n",
       "      <td>2022</td>\n",
       "      <td>petrol</td>\n",
       "      <td>20  km</td>\n",
       "      <td>left</td>\n",
       "      <td>white</td>\n",
       "      <td>sedan</td>\n",
       "      <td>excellent</td>\n",
       "      <td>2.0</td>\n",
       "      <td>28500</td>\n",
       "    </tr>\n",
       "  </tbody>\n",
       "</table>\n",
       "<p>1642 rows × 10 columns</p>\n",
       "</div>"
      ],
      "text/plain": [
       "              model  year motor_type        running wheel    color   type  \\\n",
       "0            toyota  2022     petrol       3000  km  left  skyblue  sedan   \n",
       "1     mercedes-benz  2014     petrol     132000  km  left    black  sedan   \n",
       "2               kia  2018     petrol   95000  miles  left    other  sedan   \n",
       "3     mercedes-benz  2002     petrol  137000  miles  left   golden  sedan   \n",
       "4     mercedes-benz  2017     petrol     130000  km  left    black  sedan   \n",
       "...             ...   ...        ...            ...   ...      ...    ...   \n",
       "1637        hyundai  2017     petrol  120000  miles  left    white  sedan   \n",
       "1638         toyota  2014     petrol     170000  km  left    black  sedan   \n",
       "1639         nissan  2018     petrol   68900  miles  left     blue    suv   \n",
       "1640         nissan  2019     petrol   31000  miles  left    black    suv   \n",
       "1641         toyota  2022     petrol         20  km  left    white  sedan   \n",
       "\n",
       "         status  motor_volume  price  \n",
       "0     excellent           2.0  24500  \n",
       "1     excellent           2.0  25500  \n",
       "2     excellent           2.0  11700  \n",
       "3     excellent           3.2  12000  \n",
       "4          good           2.0  26000  \n",
       "...         ...           ...    ...  \n",
       "1637       good           2.0  12400  \n",
       "1638       good           2.0  16500  \n",
       "1639       good           2.0  19500  \n",
       "1640  excellent           2.0  19500  \n",
       "1641  excellent           2.0  28500  \n",
       "\n",
       "[1642 rows x 10 columns]"
      ]
     },
     "execution_count": 3,
     "metadata": {},
     "output_type": "execute_result"
    }
   ],
   "source": [
    "train_data"
   ]
  },
  {
   "cell_type": "code",
   "execution_count": 4,
   "id": "c3bc6085-f7cd-4516-9265-b5178440b2e9",
   "metadata": {
    "tags": []
   },
   "outputs": [
    {
     "data": {
      "text/html": [
       "<div>\n",
       "<style scoped>\n",
       "    .dataframe tbody tr th:only-of-type {\n",
       "        vertical-align: middle;\n",
       "    }\n",
       "\n",
       "    .dataframe tbody tr th {\n",
       "        vertical-align: top;\n",
       "    }\n",
       "\n",
       "    .dataframe thead th {\n",
       "        text-align: right;\n",
       "    }\n",
       "</style>\n",
       "<table border=\"1\" class=\"dataframe\">\n",
       "  <thead>\n",
       "    <tr style=\"text-align: right;\">\n",
       "      <th></th>\n",
       "      <th>model</th>\n",
       "      <th>year</th>\n",
       "      <th>motor_type</th>\n",
       "      <th>running</th>\n",
       "      <th>wheel</th>\n",
       "      <th>color</th>\n",
       "      <th>type</th>\n",
       "      <th>status</th>\n",
       "      <th>motor_volume</th>\n",
       "    </tr>\n",
       "  </thead>\n",
       "  <tbody>\n",
       "    <tr>\n",
       "      <th>0</th>\n",
       "      <td>kia</td>\n",
       "      <td>2020</td>\n",
       "      <td>petrol</td>\n",
       "      <td>24000  km</td>\n",
       "      <td>left</td>\n",
       "      <td>black</td>\n",
       "      <td>sedan</td>\n",
       "      <td>excellent</td>\n",
       "      <td>2.0</td>\n",
       "    </tr>\n",
       "    <tr>\n",
       "      <th>1</th>\n",
       "      <td>nissan</td>\n",
       "      <td>2017</td>\n",
       "      <td>petrol</td>\n",
       "      <td>85000  miles</td>\n",
       "      <td>left</td>\n",
       "      <td>white</td>\n",
       "      <td>suv</td>\n",
       "      <td>excellent</td>\n",
       "      <td>2.0</td>\n",
       "    </tr>\n",
       "    <tr>\n",
       "      <th>2</th>\n",
       "      <td>hyundai</td>\n",
       "      <td>2021</td>\n",
       "      <td>petrol</td>\n",
       "      <td>30000  miles</td>\n",
       "      <td>left</td>\n",
       "      <td>white</td>\n",
       "      <td>sedan</td>\n",
       "      <td>excellent</td>\n",
       "      <td>2.0</td>\n",
       "    </tr>\n",
       "    <tr>\n",
       "      <th>3</th>\n",
       "      <td>kia</td>\n",
       "      <td>2018</td>\n",
       "      <td>petrol</td>\n",
       "      <td>53000  miles</td>\n",
       "      <td>left</td>\n",
       "      <td>silver</td>\n",
       "      <td>sedan</td>\n",
       "      <td>excellent</td>\n",
       "      <td>2.0</td>\n",
       "    </tr>\n",
       "    <tr>\n",
       "      <th>4</th>\n",
       "      <td>mercedes-benz</td>\n",
       "      <td>2003</td>\n",
       "      <td>petrol</td>\n",
       "      <td>230000  km</td>\n",
       "      <td>left</td>\n",
       "      <td>black</td>\n",
       "      <td>Universal</td>\n",
       "      <td>normal</td>\n",
       "      <td>1.8</td>\n",
       "    </tr>\n",
       "    <tr>\n",
       "      <th>...</th>\n",
       "      <td>...</td>\n",
       "      <td>...</td>\n",
       "      <td>...</td>\n",
       "      <td>...</td>\n",
       "      <td>...</td>\n",
       "      <td>...</td>\n",
       "      <td>...</td>\n",
       "      <td>...</td>\n",
       "      <td>...</td>\n",
       "    </tr>\n",
       "    <tr>\n",
       "      <th>406</th>\n",
       "      <td>nissan</td>\n",
       "      <td>2021</td>\n",
       "      <td>petrol</td>\n",
       "      <td>33400  km</td>\n",
       "      <td>left</td>\n",
       "      <td>black</td>\n",
       "      <td>suv</td>\n",
       "      <td>excellent</td>\n",
       "      <td>2.0</td>\n",
       "    </tr>\n",
       "    <tr>\n",
       "      <th>407</th>\n",
       "      <td>hyundai</td>\n",
       "      <td>2017</td>\n",
       "      <td>petrol</td>\n",
       "      <td>60000  miles</td>\n",
       "      <td>left</td>\n",
       "      <td>other</td>\n",
       "      <td>sedan</td>\n",
       "      <td>excellent</td>\n",
       "      <td>2.0</td>\n",
       "    </tr>\n",
       "    <tr>\n",
       "      <th>408</th>\n",
       "      <td>mercedes-benz</td>\n",
       "      <td>2012</td>\n",
       "      <td>petrol</td>\n",
       "      <td>218000  km</td>\n",
       "      <td>left</td>\n",
       "      <td>white</td>\n",
       "      <td>sedan</td>\n",
       "      <td>good</td>\n",
       "      <td>2.0</td>\n",
       "    </tr>\n",
       "    <tr>\n",
       "      <th>409</th>\n",
       "      <td>kia</td>\n",
       "      <td>2020</td>\n",
       "      <td>petrol</td>\n",
       "      <td>40000  miles</td>\n",
       "      <td>left</td>\n",
       "      <td>red</td>\n",
       "      <td>sedan</td>\n",
       "      <td>good</td>\n",
       "      <td>2.0</td>\n",
       "    </tr>\n",
       "    <tr>\n",
       "      <th>410</th>\n",
       "      <td>hyundai</td>\n",
       "      <td>2017</td>\n",
       "      <td>petrol</td>\n",
       "      <td>120000  miles</td>\n",
       "      <td>left</td>\n",
       "      <td>white</td>\n",
       "      <td>sedan</td>\n",
       "      <td>excellent</td>\n",
       "      <td>2.0</td>\n",
       "    </tr>\n",
       "  </tbody>\n",
       "</table>\n",
       "<p>411 rows × 9 columns</p>\n",
       "</div>"
      ],
      "text/plain": [
       "             model  year motor_type        running wheel   color       type  \\\n",
       "0              kia  2020     petrol      24000  km  left   black      sedan   \n",
       "1           nissan  2017     petrol   85000  miles  left   white        suv   \n",
       "2          hyundai  2021     petrol   30000  miles  left   white      sedan   \n",
       "3              kia  2018     petrol   53000  miles  left  silver      sedan   \n",
       "4    mercedes-benz  2003     petrol     230000  km  left   black  Universal   \n",
       "..             ...   ...        ...            ...   ...     ...        ...   \n",
       "406         nissan  2021     petrol      33400  km  left   black        suv   \n",
       "407        hyundai  2017     petrol   60000  miles  left   other      sedan   \n",
       "408  mercedes-benz  2012     petrol     218000  km  left   white      sedan   \n",
       "409            kia  2020     petrol   40000  miles  left     red      sedan   \n",
       "410        hyundai  2017     petrol  120000  miles  left   white      sedan   \n",
       "\n",
       "        status  motor_volume  \n",
       "0    excellent           2.0  \n",
       "1    excellent           2.0  \n",
       "2    excellent           2.0  \n",
       "3    excellent           2.0  \n",
       "4       normal           1.8  \n",
       "..         ...           ...  \n",
       "406  excellent           2.0  \n",
       "407  excellent           2.0  \n",
       "408       good           2.0  \n",
       "409       good           2.0  \n",
       "410  excellent           2.0  \n",
       "\n",
       "[411 rows x 9 columns]"
      ]
     },
     "execution_count": 4,
     "metadata": {},
     "output_type": "execute_result"
    }
   ],
   "source": [
    "test_data"
   ]
  },
  {
   "cell_type": "markdown",
   "id": "d4983bc8-136c-45a3-8ae9-96d7a711f328",
   "metadata": {},
   "source": [
    "### 2. Data Cleaning and prepare for analysis"
   ]
  },
  {
   "cell_type": "markdown",
   "id": "b515b629-0e80-4765-8f21-40dc8a012f1c",
   "metadata": {},
   "source": [
    "#### 2.1 Convert \"running\" column to numercial, and unify the column to the same unit. "
   ]
  },
  {
   "cell_type": "code",
   "execution_count": 5,
   "id": "d2ca5ea8-b7be-477f-a765-f55e69a23ecd",
   "metadata": {
    "tags": []
   },
   "outputs": [],
   "source": [
    "train_data['running_numeric'] = train_data['running'].str.extract('(\\d+)').astype(float)"
   ]
  },
  {
   "cell_type": "code",
   "execution_count": 6,
   "id": "f609a02b-bd77-4639-8075-d11306180777",
   "metadata": {
    "tags": []
   },
   "outputs": [],
   "source": [
    "def convert_to_km(value):\n",
    "    numeric_value, unit = value.split()\n",
    "    numeric_value = float(numeric_value)\n",
    "    if unit.lower() == 'miles':\n",
    "        return numeric_value * 1.60934\n",
    "    elif unit.lower() == 'km':\n",
    "        return numeric_value\n",
    "    else:\n",
    "        return None \n",
    "    \n",
    "train_data['running_numeric'] = train_data['running'].apply(convert_to_km)"
   ]
  },
  {
   "cell_type": "code",
   "execution_count": 7,
   "id": "71b83f12-1019-42bd-84f4-f7fcff5facc3",
   "metadata": {
    "tags": []
   },
   "outputs": [],
   "source": [
    "train_data.drop('running',axis=1,inplace=True) # Drop the \"running\" column to aviod confusion. "
   ]
  },
  {
   "cell_type": "code",
   "execution_count": 8,
   "id": "22ac23b7-2d9f-40b7-a3ab-1141d9cc75f3",
   "metadata": {
    "tags": []
   },
   "outputs": [],
   "source": [
    "train_data['running_numeric'] = train_data['running_numeric'].astype('int64')\n",
    "train_data['motor_volume'] = train_data['motor_volume'].astype('int64')"
   ]
  },
  {
   "cell_type": "code",
   "execution_count": 9,
   "id": "ac156a25-6da9-45e0-89ee-a6fc67b2e9ba",
   "metadata": {
    "tags": []
   },
   "outputs": [
    {
     "name": "stdout",
     "output_type": "stream",
     "text": [
      "Numerical columns = ['year', 'motor_volume', 'price', 'running_numeric'], \n",
      "\n",
      "Categorical columns = ['model', 'motor_type', 'wheel', 'color', 'type', 'status']\n"
     ]
    }
   ],
   "source": [
    "# List all the categorical columns and numercial columns for analysis\n",
    "categorical_column = train_data.select_dtypes(include=['object']).columns.tolist()\n",
    "numercial_column = train_data.select_dtypes(include=['int64', 'float64']).columns.tolist()\n",
    "print(f\"Numerical columns = {(numercial_column)}, \\n\\nCategorical columns = {(categorical_column)}\")"
   ]
  },
  {
   "cell_type": "markdown",
   "id": "c2cccb68-f891-4262-844e-74bf368562bf",
   "metadata": {},
   "source": [
    "#### 2.2 Outliers analysis"
   ]
  },
  {
   "cell_type": "code",
   "execution_count": 10,
   "id": "57595b4d-fc5f-4bbb-83d4-d2ac27a6b014",
   "metadata": {
    "tags": []
   },
   "outputs": [
    {
     "data": {
      "text/plain": [
       "<function matplotlib.pyplot.xticks(ticks=None, labels=None, *, minor=False, **kwargs)>"
      ]
     },
     "execution_count": 10,
     "metadata": {},
     "output_type": "execute_result"
    },
    {
     "data": {
      "image/png": "[encoded data removed]",
      "text/plain": [
       "<Figure size 2200x800 with 1 Axes>"
      ]
     },
     "metadata": {},
     "output_type": "display_data"
    }
   ],
   "source": [
    "# plot the box plot to identify the outliers\n",
    "train_data[numercial_column].plot.box(figsize=(22, 8))\n",
    "plt.xticks"
   ]
  },
  {
   "cell_type": "code",
   "execution_count": 11,
   "id": "129da46c-5d8c-4ae2-b44b-3d49647d8c3c",
   "metadata": {
    "tags": []
   },
   "outputs": [],
   "source": [
    "# Define the outlier identification ethod\n",
    "def out_selection(value):\n",
    "    Q1 = value.quantile(0.25)\n",
    "    Q3 = value.quantile(0.75)\n",
    "    IQR = Q3 - Q1\n",
    "    upper_bound = Q3 + 1.5*IQR\n",
    "    lower_bound = Q1 - 1.5*IQR\n",
    "    print(f\"upper bound: {upper_bound}, lower bound: {lower_bound}\")\n",
    "    \n",
    "    return upper_bound, lower_bound"
   ]
  },
  {
   "cell_type": "code",
   "execution_count": 12,
   "id": "7fb58816-d9c3-40e3-ac4f-0ff63238dce6",
   "metadata": {
    "tags": []
   },
   "outputs": [
    {
     "name": "stdout",
     "output_type": "stream",
     "text": [
      "upper bound: 317795.375, lower bound: -100555.625\n"
     ]
    }
   ],
   "source": [
    "upper_bound_running_numeric, lower_bound_running_numeric = out_selection(train_data.running_numeric)"
   ]
  },
  {
   "cell_type": "code",
   "execution_count": 13,
   "id": "d800c3a0-aa6e-464e-9a5e-8ec72558f333",
   "metadata": {
    "tags": []
   },
   "outputs": [],
   "source": [
    "# Select out the proper data for future analysis\n",
    "train_data = train_data[(train_data['running_numeric']< upper_bound_running_numeric) & (train_data['running_numeric']> lower_bound_running_numeric) ]"
   ]
  },
  {
   "cell_type": "code",
   "execution_count": 14,
   "id": "2c8f241e-7e60-4eea-a01b-d5ab3759887f",
   "metadata": {
    "tags": []
   },
   "outputs": [
    {
     "data": {
      "text/plain": [
       "<function matplotlib.pyplot.xticks(ticks=None, labels=None, *, minor=False, **kwargs)>"
      ]
     },
     "execution_count": 14,
     "metadata": {},
     "output_type": "execute_result"
    },
    {
     "data": {
      "image/png": "[encoded data removed]",
      "text/plain": [
       "<Figure size 2200x800 with 1 Axes>"
      ]
     },
     "metadata": {},
     "output_type": "display_data"
    }
   ],
   "source": [
    "# Plot out the box plot to check again the effect of last step\n",
    "train_data[numercial_column].plot.box(figsize=(22, 8))\n",
    "plt.xticks"
   ]
  },
  {
   "cell_type": "markdown",
   "id": "0443f2c7-8c55-4a82-a558-f4e6f623273a",
   "metadata": {},
   "source": [
    "#### 2.3 Use One Hot Encoder to encode the categorical columns (Make categorical columns contribute to the model prediction, all-rounded model)"
   ]
  },
  {
   "cell_type": "code",
   "execution_count": 15,
   "id": "8644d0fb-6aaf-46d4-8453-8892ce301c5f",
   "metadata": {},
   "outputs": [
    {
     "name": "stderr",
     "output_type": "stream",
     "text": [
      "/Users/jiaweizou/anaconda3/lib/python3.11/site-packages/sklearn/preprocessing/_encoders.py:972: FutureWarning: `sparse` was renamed to `sparse_output` in version 1.2 and will be removed in 1.4. `sparse_output` is ignored unless you leave `sparse` to its default value.\n",
      "  warnings.warn(\n"
     ]
    }
   ],
   "source": [
    "encoder = OneHotEncoder(sparse=False)\n",
    "encoded_features = encoder.fit_transform(train_data[categorical_column])\n",
    "encoded_features_df = pd.DataFrame(encoded_features, columns=encoder.get_feature_names_out(categorical_column))\n",
    "train_data = train_data.drop(columns=categorical_column)\n",
    "train_data = pd.concat([train_data, encoded_features_df], axis=1)"
   ]
  },
  {
   "cell_type": "code",
   "execution_count": 16,
   "id": "39bc8a1c-7d65-4073-a339-3094e9f01461",
   "metadata": {
    "tags": []
   },
   "outputs": [
    {
     "data": {
      "text/html": [
       "<div>\n",
       "<style scoped>\n",
       "    .dataframe tbody tr th:only-of-type {\n",
       "        vertical-align: middle;\n",
       "    }\n",
       "\n",
       "    .dataframe tbody tr th {\n",
       "        vertical-align: top;\n",
       "    }\n",
       "\n",
       "    .dataframe thead th {\n",
       "        text-align: right;\n",
       "    }\n",
       "</style>\n",
       "<table border=\"1\" class=\"dataframe\">\n",
       "  <thead>\n",
       "    <tr style=\"text-align: right;\">\n",
       "      <th></th>\n",
       "      <th>year</th>\n",
       "      <th>motor_volume</th>\n",
       "      <th>price</th>\n",
       "      <th>running_numeric</th>\n",
       "      <th>model_hyundai</th>\n",
       "      <th>model_kia</th>\n",
       "      <th>model_mercedes-benz</th>\n",
       "      <th>model_nissan</th>\n",
       "      <th>model_toyota</th>\n",
       "      <th>motor_type_diesel</th>\n",
       "      <th>...</th>\n",
       "      <th>type_minivan / minibus</th>\n",
       "      <th>type_pickup</th>\n",
       "      <th>type_sedan</th>\n",
       "      <th>type_suv</th>\n",
       "      <th>status_crashed</th>\n",
       "      <th>status_excellent</th>\n",
       "      <th>status_good</th>\n",
       "      <th>status_new</th>\n",
       "      <th>status_normal</th>\n",
       "      <th>wheel_right</th>\n",
       "    </tr>\n",
       "  </thead>\n",
       "  <tbody>\n",
       "    <tr>\n",
       "      <th>0</th>\n",
       "      <td>2022.0</td>\n",
       "      <td>2.0</td>\n",
       "      <td>24500.0</td>\n",
       "      <td>3000.0</td>\n",
       "      <td>0.0</td>\n",
       "      <td>0.0</td>\n",
       "      <td>0.0</td>\n",
       "      <td>0.0</td>\n",
       "      <td>1.0</td>\n",
       "      <td>0.0</td>\n",
       "      <td>...</td>\n",
       "      <td>0.0</td>\n",
       "      <td>0.0</td>\n",
       "      <td>1.0</td>\n",
       "      <td>0.0</td>\n",
       "      <td>0.0</td>\n",
       "      <td>1.0</td>\n",
       "      <td>0.0</td>\n",
       "      <td>0.0</td>\n",
       "      <td>0.0</td>\n",
       "      <td>0</td>\n",
       "    </tr>\n",
       "    <tr>\n",
       "      <th>1</th>\n",
       "      <td>2014.0</td>\n",
       "      <td>2.0</td>\n",
       "      <td>25500.0</td>\n",
       "      <td>132000.0</td>\n",
       "      <td>0.0</td>\n",
       "      <td>0.0</td>\n",
       "      <td>1.0</td>\n",
       "      <td>0.0</td>\n",
       "      <td>0.0</td>\n",
       "      <td>0.0</td>\n",
       "      <td>...</td>\n",
       "      <td>0.0</td>\n",
       "      <td>0.0</td>\n",
       "      <td>1.0</td>\n",
       "      <td>0.0</td>\n",
       "      <td>0.0</td>\n",
       "      <td>1.0</td>\n",
       "      <td>0.0</td>\n",
       "      <td>0.0</td>\n",
       "      <td>0.0</td>\n",
       "      <td>0</td>\n",
       "    </tr>\n",
       "    <tr>\n",
       "      <th>2</th>\n",
       "      <td>2018.0</td>\n",
       "      <td>2.0</td>\n",
       "      <td>11700.0</td>\n",
       "      <td>152887.0</td>\n",
       "      <td>0.0</td>\n",
       "      <td>1.0</td>\n",
       "      <td>0.0</td>\n",
       "      <td>0.0</td>\n",
       "      <td>0.0</td>\n",
       "      <td>0.0</td>\n",
       "      <td>...</td>\n",
       "      <td>0.0</td>\n",
       "      <td>0.0</td>\n",
       "      <td>1.0</td>\n",
       "      <td>0.0</td>\n",
       "      <td>0.0</td>\n",
       "      <td>1.0</td>\n",
       "      <td>0.0</td>\n",
       "      <td>0.0</td>\n",
       "      <td>0.0</td>\n",
       "      <td>0</td>\n",
       "    </tr>\n",
       "    <tr>\n",
       "      <th>3</th>\n",
       "      <td>2002.0</td>\n",
       "      <td>3.0</td>\n",
       "      <td>12000.0</td>\n",
       "      <td>220479.0</td>\n",
       "      <td>0.0</td>\n",
       "      <td>0.0</td>\n",
       "      <td>1.0</td>\n",
       "      <td>0.0</td>\n",
       "      <td>0.0</td>\n",
       "      <td>0.0</td>\n",
       "      <td>...</td>\n",
       "      <td>0.0</td>\n",
       "      <td>0.0</td>\n",
       "      <td>1.0</td>\n",
       "      <td>0.0</td>\n",
       "      <td>0.0</td>\n",
       "      <td>1.0</td>\n",
       "      <td>0.0</td>\n",
       "      <td>0.0</td>\n",
       "      <td>0.0</td>\n",
       "      <td>0</td>\n",
       "    </tr>\n",
       "    <tr>\n",
       "      <th>4</th>\n",
       "      <td>2017.0</td>\n",
       "      <td>2.0</td>\n",
       "      <td>26000.0</td>\n",
       "      <td>130000.0</td>\n",
       "      <td>0.0</td>\n",
       "      <td>0.0</td>\n",
       "      <td>1.0</td>\n",
       "      <td>0.0</td>\n",
       "      <td>0.0</td>\n",
       "      <td>0.0</td>\n",
       "      <td>...</td>\n",
       "      <td>0.0</td>\n",
       "      <td>0.0</td>\n",
       "      <td>1.0</td>\n",
       "      <td>0.0</td>\n",
       "      <td>0.0</td>\n",
       "      <td>0.0</td>\n",
       "      <td>1.0</td>\n",
       "      <td>0.0</td>\n",
       "      <td>0.0</td>\n",
       "      <td>0</td>\n",
       "    </tr>\n",
       "    <tr>\n",
       "      <th>...</th>\n",
       "      <td>...</td>\n",
       "      <td>...</td>\n",
       "      <td>...</td>\n",
       "      <td>...</td>\n",
       "      <td>...</td>\n",
       "      <td>...</td>\n",
       "      <td>...</td>\n",
       "      <td>...</td>\n",
       "      <td>...</td>\n",
       "      <td>...</td>\n",
       "      <td>...</td>\n",
       "      <td>...</td>\n",
       "      <td>...</td>\n",
       "      <td>...</td>\n",
       "      <td>...</td>\n",
       "      <td>...</td>\n",
       "      <td>...</td>\n",
       "      <td>...</td>\n",
       "      <td>...</td>\n",
       "      <td>...</td>\n",
       "      <td>...</td>\n",
       "    </tr>\n",
       "    <tr>\n",
       "      <th>1591</th>\n",
       "      <td>2016.0</td>\n",
       "      <td>2.0</td>\n",
       "      <td>15300.0</td>\n",
       "      <td>85000.0</td>\n",
       "      <td>1.0</td>\n",
       "      <td>0.0</td>\n",
       "      <td>0.0</td>\n",
       "      <td>0.0</td>\n",
       "      <td>0.0</td>\n",
       "      <td>0.0</td>\n",
       "      <td>...</td>\n",
       "      <td>0.0</td>\n",
       "      <td>0.0</td>\n",
       "      <td>1.0</td>\n",
       "      <td>0.0</td>\n",
       "      <td>0.0</td>\n",
       "      <td>0.0</td>\n",
       "      <td>1.0</td>\n",
       "      <td>0.0</td>\n",
       "      <td>0.0</td>\n",
       "      <td>0</td>\n",
       "    </tr>\n",
       "    <tr>\n",
       "      <th>1592</th>\n",
       "      <td>2018.0</td>\n",
       "      <td>2.0</td>\n",
       "      <td>14900.0</td>\n",
       "      <td>133575.0</td>\n",
       "      <td>0.0</td>\n",
       "      <td>0.0</td>\n",
       "      <td>0.0</td>\n",
       "      <td>0.0</td>\n",
       "      <td>1.0</td>\n",
       "      <td>0.0</td>\n",
       "      <td>...</td>\n",
       "      <td>0.0</td>\n",
       "      <td>0.0</td>\n",
       "      <td>1.0</td>\n",
       "      <td>0.0</td>\n",
       "      <td>0.0</td>\n",
       "      <td>0.0</td>\n",
       "      <td>1.0</td>\n",
       "      <td>0.0</td>\n",
       "      <td>0.0</td>\n",
       "      <td>0</td>\n",
       "    </tr>\n",
       "    <tr>\n",
       "      <th>1593</th>\n",
       "      <td>2016.0</td>\n",
       "      <td>2.0</td>\n",
       "      <td>16500.0</td>\n",
       "      <td>115000.0</td>\n",
       "      <td>0.0</td>\n",
       "      <td>0.0</td>\n",
       "      <td>0.0</td>\n",
       "      <td>1.0</td>\n",
       "      <td>0.0</td>\n",
       "      <td>0.0</td>\n",
       "      <td>...</td>\n",
       "      <td>0.0</td>\n",
       "      <td>0.0</td>\n",
       "      <td>0.0</td>\n",
       "      <td>1.0</td>\n",
       "      <td>0.0</td>\n",
       "      <td>0.0</td>\n",
       "      <td>1.0</td>\n",
       "      <td>0.0</td>\n",
       "      <td>0.0</td>\n",
       "      <td>0</td>\n",
       "    </tr>\n",
       "    <tr>\n",
       "      <th>1594</th>\n",
       "      <td>2020.0</td>\n",
       "      <td>1.0</td>\n",
       "      <td>18500.0</td>\n",
       "      <td>67500.0</td>\n",
       "      <td>0.0</td>\n",
       "      <td>0.0</td>\n",
       "      <td>0.0</td>\n",
       "      <td>1.0</td>\n",
       "      <td>0.0</td>\n",
       "      <td>0.0</td>\n",
       "      <td>...</td>\n",
       "      <td>0.0</td>\n",
       "      <td>0.0</td>\n",
       "      <td>0.0</td>\n",
       "      <td>1.0</td>\n",
       "      <td>0.0</td>\n",
       "      <td>1.0</td>\n",
       "      <td>0.0</td>\n",
       "      <td>0.0</td>\n",
       "      <td>0.0</td>\n",
       "      <td>0</td>\n",
       "    </tr>\n",
       "    <tr>\n",
       "      <th>1595</th>\n",
       "      <td>1999.0</td>\n",
       "      <td>2.0</td>\n",
       "      <td>6000.0</td>\n",
       "      <td>277000.0</td>\n",
       "      <td>0.0</td>\n",
       "      <td>0.0</td>\n",
       "      <td>0.0</td>\n",
       "      <td>0.0</td>\n",
       "      <td>1.0</td>\n",
       "      <td>0.0</td>\n",
       "      <td>...</td>\n",
       "      <td>0.0</td>\n",
       "      <td>0.0</td>\n",
       "      <td>1.0</td>\n",
       "      <td>0.0</td>\n",
       "      <td>0.0</td>\n",
       "      <td>1.0</td>\n",
       "      <td>0.0</td>\n",
       "      <td>0.0</td>\n",
       "      <td>0.0</td>\n",
       "      <td>0</td>\n",
       "    </tr>\n",
       "  </tbody>\n",
       "</table>\n",
       "<p>1551 rows × 45 columns</p>\n",
       "</div>"
      ],
      "text/plain": [
       "        year  motor_volume    price  running_numeric  model_hyundai  \\\n",
       "0     2022.0           2.0  24500.0           3000.0            0.0   \n",
       "1     2014.0           2.0  25500.0         132000.0            0.0   \n",
       "2     2018.0           2.0  11700.0         152887.0            0.0   \n",
       "3     2002.0           3.0  12000.0         220479.0            0.0   \n",
       "4     2017.0           2.0  26000.0         130000.0            0.0   \n",
       "...      ...           ...      ...              ...            ...   \n",
       "1591  2016.0           2.0  15300.0          85000.0            1.0   \n",
       "1592  2018.0           2.0  14900.0         133575.0            0.0   \n",
       "1593  2016.0           2.0  16500.0         115000.0            0.0   \n",
       "1594  2020.0           1.0  18500.0          67500.0            0.0   \n",
       "1595  1999.0           2.0   6000.0         277000.0            0.0   \n",
       "\n",
       "      model_kia  model_mercedes-benz  model_nissan  model_toyota  \\\n",
       "0           0.0                  0.0           0.0           1.0   \n",
       "1           0.0                  1.0           0.0           0.0   \n",
       "2           1.0                  0.0           0.0           0.0   \n",
       "3           0.0                  1.0           0.0           0.0   \n",
       "4           0.0                  1.0           0.0           0.0   \n",
       "...         ...                  ...           ...           ...   \n",
       "1591        0.0                  0.0           0.0           0.0   \n",
       "1592        0.0                  0.0           0.0           1.0   \n",
       "1593        0.0                  0.0           1.0           0.0   \n",
       "1594        0.0                  0.0           1.0           0.0   \n",
       "1595        0.0                  0.0           0.0           1.0   \n",
       "\n",
       "      motor_type_diesel  ...  type_minivan / minibus  type_pickup  type_sedan  \\\n",
       "0                   0.0  ...                     0.0          0.0         1.0   \n",
       "1                   0.0  ...                     0.0          0.0         1.0   \n",
       "2                   0.0  ...                     0.0          0.0         1.0   \n",
       "3                   0.0  ...                     0.0          0.0         1.0   \n",
       "4                   0.0  ...                     0.0          0.0         1.0   \n",
       "...                 ...  ...                     ...          ...         ...   \n",
       "1591                0.0  ...                     0.0          0.0         1.0   \n",
       "1592                0.0  ...                     0.0          0.0         1.0   \n",
       "1593                0.0  ...                     0.0          0.0         0.0   \n",
       "1594                0.0  ...                     0.0          0.0         0.0   \n",
       "1595                0.0  ...                     0.0          0.0         1.0   \n",
       "\n",
       "      type_suv  status_crashed  status_excellent  status_good  status_new  \\\n",
       "0          0.0             0.0               1.0          0.0         0.0   \n",
       "1          0.0             0.0               1.0          0.0         0.0   \n",
       "2          0.0             0.0               1.0          0.0         0.0   \n",
       "3          0.0             0.0               1.0          0.0         0.0   \n",
       "4          0.0             0.0               0.0          1.0         0.0   \n",
       "...        ...             ...               ...          ...         ...   \n",
       "1591       0.0             0.0               0.0          1.0         0.0   \n",
       "1592       0.0             0.0               0.0          1.0         0.0   \n",
       "1593       1.0             0.0               0.0          1.0         0.0   \n",
       "1594       1.0             0.0               1.0          0.0         0.0   \n",
       "1595       0.0             0.0               1.0          0.0         0.0   \n",
       "\n",
       "      status_normal  wheel_right  \n",
       "0               0.0            0  \n",
       "1               0.0            0  \n",
       "2               0.0            0  \n",
       "3               0.0            0  \n",
       "4               0.0            0  \n",
       "...             ...          ...  \n",
       "1591            0.0            0  \n",
       "1592            0.0            0  \n",
       "1593            0.0            0  \n",
       "1594            0.0            0  \n",
       "1595            0.0            0  \n",
       "\n",
       "[1551 rows x 45 columns]"
      ]
     },
     "execution_count": 16,
     "metadata": {},
     "output_type": "execute_result"
    }
   ],
   "source": [
    "train_data = train_data.dropna()\n",
    "train_data['wheel_right']=0\n",
    "train_data "
   ]
  },
  {
   "cell_type": "code",
   "execution_count": 17,
   "id": "9dab8480-19e7-4aac-b9a3-670cdf5d36b3",
   "metadata": {
    "tags": []
   },
   "outputs": [],
   "source": [
    "train_data.to_csv('train_data.csv',index=False)"
   ]
  },
  {
   "cell_type": "markdown",
   "id": "ca9c38f0-6f61-457b-9719-039571aa5e6f",
   "metadata": {},
   "source": [
    "#### 2.4 NaN value analysis"
   ]
  },
  {
   "cell_type": "code",
   "execution_count": 18,
   "id": "e8d57895-32f0-4462-b698-2876a9758a7d",
   "metadata": {
    "tags": []
   },
   "outputs": [],
   "source": [
    "# Get the percent of NaN value in each column, and opt out the high_percentage (NaN) one. \n",
    "null_col = pd.DataFrame((train_data.isnull().sum()/train_data.shape[0])*100)\n",
    "null_col = null_col[null_col[0]>0].reset_index().sort_values(by=0, ascending=False)\n",
    "null_col = null_col.rename(columns={0: \"Percentage of NaN\"})\n",
    "null_col['type'] = [\"categorical\" if x in categorical_column else \"numeric\" for x in null_col['index']]"
   ]
  },
  {
   "cell_type": "code",
   "execution_count": 19,
   "id": "223bb015-199b-4099-98b3-8d1af008d586",
   "metadata": {
    "tags": []
   },
   "outputs": [
    {
     "data": {
      "text/html": [
       "<div>\n",
       "<style scoped>\n",
       "    .dataframe tbody tr th:only-of-type {\n",
       "        vertical-align: middle;\n",
       "    }\n",
       "\n",
       "    .dataframe tbody tr th {\n",
       "        vertical-align: top;\n",
       "    }\n",
       "\n",
       "    .dataframe thead th {\n",
       "        text-align: right;\n",
       "    }\n",
       "</style>\n",
       "<table border=\"1\" class=\"dataframe\">\n",
       "  <thead>\n",
       "    <tr style=\"text-align: right;\">\n",
       "      <th></th>\n",
       "      <th>index</th>\n",
       "      <th>Percentage of NaN</th>\n",
       "      <th>type</th>\n",
       "    </tr>\n",
       "  </thead>\n",
       "  <tbody>\n",
       "  </tbody>\n",
       "</table>\n",
       "</div>"
      ],
      "text/plain": [
       "Empty DataFrame\n",
       "Columns: [index, Percentage of NaN, type]\n",
       "Index: []"
      ]
     },
     "execution_count": 19,
     "metadata": {},
     "output_type": "execute_result"
    }
   ],
   "source": [
    "null_col"
   ]
  },
  {
   "cell_type": "code",
   "execution_count": 20,
   "id": "2dbe6066-6390-4a98-acf7-e8f6750eaf0c",
   "metadata": {
    "tags": []
   },
   "outputs": [
    {
     "data": {
      "text/html": [
       "<div>\n",
       "<style scoped>\n",
       "    .dataframe tbody tr th:only-of-type {\n",
       "        vertical-align: middle;\n",
       "    }\n",
       "\n",
       "    .dataframe tbody tr th {\n",
       "        vertical-align: top;\n",
       "    }\n",
       "\n",
       "    .dataframe thead th {\n",
       "        text-align: right;\n",
       "    }\n",
       "</style>\n",
       "<table border=\"1\" class=\"dataframe\">\n",
       "  <thead>\n",
       "    <tr style=\"text-align: right;\">\n",
       "      <th></th>\n",
       "      <th>year</th>\n",
       "      <th>motor_volume</th>\n",
       "      <th>price</th>\n",
       "      <th>running_numeric</th>\n",
       "      <th>model_hyundai</th>\n",
       "      <th>model_kia</th>\n",
       "      <th>model_mercedes-benz</th>\n",
       "      <th>model_nissan</th>\n",
       "      <th>model_toyota</th>\n",
       "      <th>motor_type_diesel</th>\n",
       "      <th>...</th>\n",
       "      <th>type_minivan / minibus</th>\n",
       "      <th>type_pickup</th>\n",
       "      <th>type_sedan</th>\n",
       "      <th>type_suv</th>\n",
       "      <th>status_crashed</th>\n",
       "      <th>status_excellent</th>\n",
       "      <th>status_good</th>\n",
       "      <th>status_new</th>\n",
       "      <th>status_normal</th>\n",
       "      <th>wheel_right</th>\n",
       "    </tr>\n",
       "  </thead>\n",
       "  <tbody>\n",
       "    <tr>\n",
       "      <th>0</th>\n",
       "      <td>False</td>\n",
       "      <td>False</td>\n",
       "      <td>False</td>\n",
       "      <td>False</td>\n",
       "      <td>False</td>\n",
       "      <td>False</td>\n",
       "      <td>False</td>\n",
       "      <td>False</td>\n",
       "      <td>False</td>\n",
       "      <td>False</td>\n",
       "      <td>...</td>\n",
       "      <td>False</td>\n",
       "      <td>False</td>\n",
       "      <td>False</td>\n",
       "      <td>False</td>\n",
       "      <td>False</td>\n",
       "      <td>False</td>\n",
       "      <td>False</td>\n",
       "      <td>False</td>\n",
       "      <td>False</td>\n",
       "      <td>False</td>\n",
       "    </tr>\n",
       "    <tr>\n",
       "      <th>1</th>\n",
       "      <td>False</td>\n",
       "      <td>False</td>\n",
       "      <td>False</td>\n",
       "      <td>False</td>\n",
       "      <td>False</td>\n",
       "      <td>False</td>\n",
       "      <td>False</td>\n",
       "      <td>False</td>\n",
       "      <td>False</td>\n",
       "      <td>False</td>\n",
       "      <td>...</td>\n",
       "      <td>False</td>\n",
       "      <td>False</td>\n",
       "      <td>False</td>\n",
       "      <td>False</td>\n",
       "      <td>False</td>\n",
       "      <td>False</td>\n",
       "      <td>False</td>\n",
       "      <td>False</td>\n",
       "      <td>False</td>\n",
       "      <td>False</td>\n",
       "    </tr>\n",
       "    <tr>\n",
       "      <th>2</th>\n",
       "      <td>False</td>\n",
       "      <td>False</td>\n",
       "      <td>False</td>\n",
       "      <td>False</td>\n",
       "      <td>False</td>\n",
       "      <td>False</td>\n",
       "      <td>False</td>\n",
       "      <td>False</td>\n",
       "      <td>False</td>\n",
       "      <td>False</td>\n",
       "      <td>...</td>\n",
       "      <td>False</td>\n",
       "      <td>False</td>\n",
       "      <td>False</td>\n",
       "      <td>False</td>\n",
       "      <td>False</td>\n",
       "      <td>False</td>\n",
       "      <td>False</td>\n",
       "      <td>False</td>\n",
       "      <td>False</td>\n",
       "      <td>False</td>\n",
       "    </tr>\n",
       "    <tr>\n",
       "      <th>3</th>\n",
       "      <td>False</td>\n",
       "      <td>False</td>\n",
       "      <td>False</td>\n",
       "      <td>False</td>\n",
       "      <td>False</td>\n",
       "      <td>False</td>\n",
       "      <td>False</td>\n",
       "      <td>False</td>\n",
       "      <td>False</td>\n",
       "      <td>False</td>\n",
       "      <td>...</td>\n",
       "      <td>False</td>\n",
       "      <td>False</td>\n",
       "      <td>False</td>\n",
       "      <td>False</td>\n",
       "      <td>False</td>\n",
       "      <td>False</td>\n",
       "      <td>False</td>\n",
       "      <td>False</td>\n",
       "      <td>False</td>\n",
       "      <td>False</td>\n",
       "    </tr>\n",
       "    <tr>\n",
       "      <th>4</th>\n",
       "      <td>False</td>\n",
       "      <td>False</td>\n",
       "      <td>False</td>\n",
       "      <td>False</td>\n",
       "      <td>False</td>\n",
       "      <td>False</td>\n",
       "      <td>False</td>\n",
       "      <td>False</td>\n",
       "      <td>False</td>\n",
       "      <td>False</td>\n",
       "      <td>...</td>\n",
       "      <td>False</td>\n",
       "      <td>False</td>\n",
       "      <td>False</td>\n",
       "      <td>False</td>\n",
       "      <td>False</td>\n",
       "      <td>False</td>\n",
       "      <td>False</td>\n",
       "      <td>False</td>\n",
       "      <td>False</td>\n",
       "      <td>False</td>\n",
       "    </tr>\n",
       "    <tr>\n",
       "      <th>...</th>\n",
       "      <td>...</td>\n",
       "      <td>...</td>\n",
       "      <td>...</td>\n",
       "      <td>...</td>\n",
       "      <td>...</td>\n",
       "      <td>...</td>\n",
       "      <td>...</td>\n",
       "      <td>...</td>\n",
       "      <td>...</td>\n",
       "      <td>...</td>\n",
       "      <td>...</td>\n",
       "      <td>...</td>\n",
       "      <td>...</td>\n",
       "      <td>...</td>\n",
       "      <td>...</td>\n",
       "      <td>...</td>\n",
       "      <td>...</td>\n",
       "      <td>...</td>\n",
       "      <td>...</td>\n",
       "      <td>...</td>\n",
       "      <td>...</td>\n",
       "    </tr>\n",
       "    <tr>\n",
       "      <th>1591</th>\n",
       "      <td>False</td>\n",
       "      <td>False</td>\n",
       "      <td>False</td>\n",
       "      <td>False</td>\n",
       "      <td>False</td>\n",
       "      <td>False</td>\n",
       "      <td>False</td>\n",
       "      <td>False</td>\n",
       "      <td>False</td>\n",
       "      <td>False</td>\n",
       "      <td>...</td>\n",
       "      <td>False</td>\n",
       "      <td>False</td>\n",
       "      <td>False</td>\n",
       "      <td>False</td>\n",
       "      <td>False</td>\n",
       "      <td>False</td>\n",
       "      <td>False</td>\n",
       "      <td>False</td>\n",
       "      <td>False</td>\n",
       "      <td>False</td>\n",
       "    </tr>\n",
       "    <tr>\n",
       "      <th>1592</th>\n",
       "      <td>False</td>\n",
       "      <td>False</td>\n",
       "      <td>False</td>\n",
       "      <td>False</td>\n",
       "      <td>False</td>\n",
       "      <td>False</td>\n",
       "      <td>False</td>\n",
       "      <td>False</td>\n",
       "      <td>False</td>\n",
       "      <td>False</td>\n",
       "      <td>...</td>\n",
       "      <td>False</td>\n",
       "      <td>False</td>\n",
       "      <td>False</td>\n",
       "      <td>False</td>\n",
       "      <td>False</td>\n",
       "      <td>False</td>\n",
       "      <td>False</td>\n",
       "      <td>False</td>\n",
       "      <td>False</td>\n",
       "      <td>False</td>\n",
       "    </tr>\n",
       "    <tr>\n",
       "      <th>1593</th>\n",
       "      <td>False</td>\n",
       "      <td>False</td>\n",
       "      <td>False</td>\n",
       "      <td>False</td>\n",
       "      <td>False</td>\n",
       "      <td>False</td>\n",
       "      <td>False</td>\n",
       "      <td>False</td>\n",
       "      <td>False</td>\n",
       "      <td>False</td>\n",
       "      <td>...</td>\n",
       "      <td>False</td>\n",
       "      <td>False</td>\n",
       "      <td>False</td>\n",
       "      <td>False</td>\n",
       "      <td>False</td>\n",
       "      <td>False</td>\n",
       "      <td>False</td>\n",
       "      <td>False</td>\n",
       "      <td>False</td>\n",
       "      <td>False</td>\n",
       "    </tr>\n",
       "    <tr>\n",
       "      <th>1594</th>\n",
       "      <td>False</td>\n",
       "      <td>False</td>\n",
       "      <td>False</td>\n",
       "      <td>False</td>\n",
       "      <td>False</td>\n",
       "      <td>False</td>\n",
       "      <td>False</td>\n",
       "      <td>False</td>\n",
       "      <td>False</td>\n",
       "      <td>False</td>\n",
       "      <td>...</td>\n",
       "      <td>False</td>\n",
       "      <td>False</td>\n",
       "      <td>False</td>\n",
       "      <td>False</td>\n",
       "      <td>False</td>\n",
       "      <td>False</td>\n",
       "      <td>False</td>\n",
       "      <td>False</td>\n",
       "      <td>False</td>\n",
       "      <td>False</td>\n",
       "    </tr>\n",
       "    <tr>\n",
       "      <th>1595</th>\n",
       "      <td>False</td>\n",
       "      <td>False</td>\n",
       "      <td>False</td>\n",
       "      <td>False</td>\n",
       "      <td>False</td>\n",
       "      <td>False</td>\n",
       "      <td>False</td>\n",
       "      <td>False</td>\n",
       "      <td>False</td>\n",
       "      <td>False</td>\n",
       "      <td>...</td>\n",
       "      <td>False</td>\n",
       "      <td>False</td>\n",
       "      <td>False</td>\n",
       "      <td>False</td>\n",
       "      <td>False</td>\n",
       "      <td>False</td>\n",
       "      <td>False</td>\n",
       "      <td>False</td>\n",
       "      <td>False</td>\n",
       "      <td>False</td>\n",
       "    </tr>\n",
       "  </tbody>\n",
       "</table>\n",
       "<p>1551 rows × 45 columns</p>\n",
       "</div>"
      ],
      "text/plain": [
       "       year  motor_volume  price  running_numeric  model_hyundai  model_kia  \\\n",
       "0     False         False  False            False          False      False   \n",
       "1     False         False  False            False          False      False   \n",
       "2     False         False  False            False          False      False   \n",
       "3     False         False  False            False          False      False   \n",
       "4     False         False  False            False          False      False   \n",
       "...     ...           ...    ...              ...            ...        ...   \n",
       "1591  False         False  False            False          False      False   \n",
       "1592  False         False  False            False          False      False   \n",
       "1593  False         False  False            False          False      False   \n",
       "1594  False         False  False            False          False      False   \n",
       "1595  False         False  False            False          False      False   \n",
       "\n",
       "      model_mercedes-benz  model_nissan  model_toyota  motor_type_diesel  ...  \\\n",
       "0                   False         False         False              False  ...   \n",
       "1                   False         False         False              False  ...   \n",
       "2                   False         False         False              False  ...   \n",
       "3                   False         False         False              False  ...   \n",
       "4                   False         False         False              False  ...   \n",
       "...                   ...           ...           ...                ...  ...   \n",
       "1591                False         False         False              False  ...   \n",
       "1592                False         False         False              False  ...   \n",
       "1593                False         False         False              False  ...   \n",
       "1594                False         False         False              False  ...   \n",
       "1595                False         False         False              False  ...   \n",
       "\n",
       "      type_minivan / minibus  type_pickup  type_sedan  type_suv  \\\n",
       "0                      False        False       False     False   \n",
       "1                      False        False       False     False   \n",
       "2                      False        False       False     False   \n",
       "3                      False        False       False     False   \n",
       "4                      False        False       False     False   \n",
       "...                      ...          ...         ...       ...   \n",
       "1591                   False        False       False     False   \n",
       "1592                   False        False       False     False   \n",
       "1593                   False        False       False     False   \n",
       "1594                   False        False       False     False   \n",
       "1595                   False        False       False     False   \n",
       "\n",
       "      status_crashed  status_excellent  status_good  status_new  \\\n",
       "0              False             False        False       False   \n",
       "1              False             False        False       False   \n",
       "2              False             False        False       False   \n",
       "3              False             False        False       False   \n",
       "4              False             False        False       False   \n",
       "...              ...               ...          ...         ...   \n",
       "1591           False             False        False       False   \n",
       "1592           False             False        False       False   \n",
       "1593           False             False        False       False   \n",
       "1594           False             False        False       False   \n",
       "1595           False             False        False       False   \n",
       "\n",
       "      status_normal  wheel_right  \n",
       "0             False        False  \n",
       "1             False        False  \n",
       "2             False        False  \n",
       "3             False        False  \n",
       "4             False        False  \n",
       "...             ...          ...  \n",
       "1591          False        False  \n",
       "1592          False        False  \n",
       "1593          False        False  \n",
       "1594          False        False  \n",
       "1595          False        False  \n",
       "\n",
       "[1551 rows x 45 columns]"
      ]
     },
     "execution_count": 20,
     "metadata": {},
     "output_type": "execute_result"
    }
   ],
   "source": [
    "train_data.isnull()"
   ]
  },
  {
   "cell_type": "code",
   "execution_count": 21,
   "id": "789858db-9f9e-4471-b26f-a7102a78f1cf",
   "metadata": {
    "tags": []
   },
   "outputs": [],
   "source": [
    "## Here, I find that there is no column to drop as all the columns in this dataset have values, if not, I can use this: \n",
    "#  columns_to_drop = ['Column1', 'Column2', 'Column3'] \n",
    "# train_data.drop(columns=columns_to_drop, inplace = True)\n",
    "\n",
    "## And I can also fill the undroped but high-NaN-percentage columns with values, such as: (fill the categorical ones with mode of the columns, and numercial ones with mean of that column)\n",
    "#  for i in null_col:\n",
    "#    if (train_data[i].dtype == \"int64\" or train_data[i].dtype == \"float64\"):\n",
    "#        train_data[i].fillna(train_data[i].mean(), inplace=True)\n",
    "#    elif train_data[i].dtype == \"object\":\n",
    "#        train_data[i].fillna(train_data[i].mode()[0], inplace=True)"
   ]
  },
  {
   "cell_type": "markdown",
   "id": "45d2ac82-4eb8-49b9-86ba-2ae05d524e93",
   "metadata": {},
   "source": [
    "#### 2.5 Visualize the data"
   ]
  },
  {
   "cell_type": "code",
   "execution_count": 22,
   "id": "76fd631f-1578-43e3-b158-845c628c44e3",
   "metadata": {
    "tags": []
   },
   "outputs": [
    {
     "data": {
      "text/plain": [
       "<Axes: >"
      ]
     },
     "execution_count": 22,
     "metadata": {},
     "output_type": "execute_result"
    },
    {
     "data": {
      "image/png": "[encoded data removed]",
      "text/plain": [
       "<Figure size 640x480 with 2 Axes>"
      ]
     },
     "metadata": {},
     "output_type": "display_data"
    }
   ],
   "source": [
    "numeric_cols = train_data.select_dtypes(include=[np.number])\n",
    "corr_matrix = numeric_cols.corr()\n",
    "cmap = sns.diverging_palette(230, 20, as_cmap=True)\n",
    "mask = np.triu(np.ones_like(corr_matrix, dtype=bool))\n",
    "sns.heatmap(corr_matrix, mask=mask, cmap=cmap, vmax=.3, center=0, square=True, linewidths=.5, cbar_kws={\"shrink\": .5})"
   ]
  },
  {
   "cell_type": "code",
   "execution_count": 23,
   "id": "accdf811-7dae-4da1-bdca-e4f8375c385c",
   "metadata": {
    "tags": []
   },
   "outputs": [
    {
     "data": {
      "text/plain": [
       "array([[<Axes: title={'center': 'year'}>,\n",
       "        <Axes: title={'center': 'motor_volume'}>,\n",
       "        <Axes: title={'center': 'price'}>,\n",
       "        <Axes: title={'center': 'running_numeric'}>,\n",
       "        <Axes: title={'center': 'model_hyundai'}>,\n",
       "        <Axes: title={'center': 'model_kia'}>,\n",
       "        <Axes: title={'center': 'model_mercedes-benz'}>],\n",
       "       [<Axes: title={'center': 'model_nissan'}>,\n",
       "        <Axes: title={'center': 'model_toyota'}>,\n",
       "        <Axes: title={'center': 'motor_type_diesel'}>,\n",
       "        <Axes: title={'center': 'motor_type_gas'}>,\n",
       "        <Axes: title={'center': 'motor_type_hybrid'}>,\n",
       "        <Axes: title={'center': 'motor_type_petrol'}>,\n",
       "        <Axes: title={'center': 'motor_type_petrol and gas'}>],\n",
       "       [<Axes: title={'center': 'wheel_left'}>,\n",
       "        <Axes: title={'center': 'color_beige'}>,\n",
       "        <Axes: title={'center': 'color_black'}>,\n",
       "        <Axes: title={'center': 'color_blue'}>,\n",
       "        <Axes: title={'center': 'color_brown'}>,\n",
       "        <Axes: title={'center': 'color_cherry'}>,\n",
       "        <Axes: title={'center': 'color_clove'}>],\n",
       "       [<Axes: title={'center': 'color_golden'}>,\n",
       "        <Axes: title={'center': 'color_gray'}>,\n",
       "        <Axes: title={'center': 'color_green'}>,\n",
       "        <Axes: title={'center': 'color_orange'}>,\n",
       "        <Axes: title={'center': 'color_other'}>,\n",
       "        <Axes: title={'center': 'color_pink'}>,\n",
       "        <Axes: title={'center': 'color_purple'}>],\n",
       "       [<Axes: title={'center': 'color_red'}>,\n",
       "        <Axes: title={'center': 'color_silver'}>,\n",
       "        <Axes: title={'center': 'color_skyblue'}>,\n",
       "        <Axes: title={'center': 'color_white'}>,\n",
       "        <Axes: title={'center': 'type_Coupe'}>,\n",
       "        <Axes: title={'center': 'type_Universal'}>,\n",
       "        <Axes: title={'center': 'type_hatchback'}>],\n",
       "       [<Axes: title={'center': 'type_minivan / minibus'}>,\n",
       "        <Axes: title={'center': 'type_pickup'}>,\n",
       "        <Axes: title={'center': 'type_sedan'}>,\n",
       "        <Axes: title={'center': 'type_suv'}>,\n",
       "        <Axes: title={'center': 'status_crashed'}>,\n",
       "        <Axes: title={'center': 'status_excellent'}>,\n",
       "        <Axes: title={'center': 'status_good'}>],\n",
       "       [<Axes: title={'center': 'status_new'}>,\n",
       "        <Axes: title={'center': 'status_normal'}>,\n",
       "        <Axes: title={'center': 'wheel_right'}>, <Axes: >, <Axes: >,\n",
       "        <Axes: >, <Axes: >]], dtype=object)"
      ]
     },
     "execution_count": 23,
     "metadata": {},
     "output_type": "execute_result"
    },
    {
     "data": {
      "image/png": "[encoded data removed]",
      "text/plain": [
       "<Figure size 2200x2200 with 49 Axes>"
      ]
     },
     "metadata": {},
     "output_type": "display_data"
    }
   ],
   "source": [
    "train_data.hist(figsize=(22,22), bins=25)"
   ]
  },
  {
   "cell_type": "markdown",
   "id": "567c4312-902d-457d-a01c-22fb870ea9e7",
   "metadata": {},
   "source": [
    "#### 2.6 Clean the test data by the same steps for future prediction analysis"
   ]
  },
  {
   "cell_type": "code",
   "execution_count": 24,
   "id": "267ab215-e088-4efe-81b6-a5868c677955",
   "metadata": {
    "tags": []
   },
   "outputs": [],
   "source": [
    "test_data['running_numeric'] = test_data['running'].str.extract('(\\d+)').astype(float)"
   ]
  },
  {
   "cell_type": "code",
   "execution_count": 25,
   "id": "a6d4cfac-d2d5-4359-88fc-a16f34e3ef84",
   "metadata": {
    "tags": []
   },
   "outputs": [],
   "source": [
    "test_data['running_numeric'] = test_data['running'].apply(convert_to_km)"
   ]
  },
  {
   "cell_type": "code",
   "execution_count": 26,
   "id": "392aba5a-ddce-42cf-9392-0eb92c7de86e",
   "metadata": {
    "tags": []
   },
   "outputs": [],
   "source": [
    "test_data.drop('running',axis=1,inplace=True)"
   ]
  },
  {
   "cell_type": "code",
   "execution_count": 27,
   "id": "b306dc10-80e2-43bd-ae06-c461e7f62997",
   "metadata": {
    "tags": []
   },
   "outputs": [],
   "source": [
    "test_data['running_numeric'] = test_data['running_numeric'].astype('int64')\n",
    "test_data['motor_volume'] = test_data['motor_volume'].astype('int64')"
   ]
  },
  {
   "cell_type": "code",
   "execution_count": 28,
   "id": "e5703180-2e11-46c7-9c80-03354e950d3a",
   "metadata": {
    "tags": []
   },
   "outputs": [
    {
     "name": "stdout",
     "output_type": "stream",
     "text": [
      "Numerical columns = ['year', 'motor_volume', 'running_numeric'], \n",
      "\n",
      "Categorical columns = ['model', 'motor_type', 'wheel', 'color', 'type', 'status']\n"
     ]
    }
   ],
   "source": [
    "categorical_column2 = test_data.select_dtypes(include=['object']).columns.tolist()\n",
    "numercial_column2 = test_data.select_dtypes(include=['int64', 'float64']).columns.tolist()\n",
    "print(f\"Numerical columns = {(numercial_column2)}, \\n\\nCategorical columns = {(categorical_column2)}\")"
   ]
  },
  {
   "cell_type": "code",
   "execution_count": 29,
   "id": "1376dd74-05ee-4b54-a7cd-753eab15979c",
   "metadata": {
    "tags": []
   },
   "outputs": [
    {
     "name": "stderr",
     "output_type": "stream",
     "text": [
      "/Users/jiaweizou/anaconda3/lib/python3.11/site-packages/sklearn/preprocessing/_encoders.py:972: FutureWarning: `sparse` was renamed to `sparse_output` in version 1.2 and will be removed in 1.4. `sparse_output` is ignored unless you leave `sparse` to its default value.\n",
      "  warnings.warn(\n"
     ]
    }
   ],
   "source": [
    "encoder = OneHotEncoder(sparse=False)\n",
    "encoded_features = encoder.fit_transform(test_data[categorical_column2])\n",
    "encoded_features_df = pd.DataFrame(encoded_features, columns=encoder.get_feature_names_out(categorical_column2))\n",
    "test_data = test_data.drop(columns=categorical_column2)\n",
    "test_data = pd.concat([test_data, encoded_features_df], axis=1)"
   ]
  },
  {
   "cell_type": "code",
   "execution_count": 30,
   "id": "8fb21e67-aa75-4fb5-9946-36c85a5e9207",
   "metadata": {
    "tags": []
   },
   "outputs": [],
   "source": [
    "null_col3 = pd.DataFrame((test_data.isnull().sum()/test_data.shape[0])*100)\n",
    "null_col3 = null_col3[null_col3[0]>0].reset_index().sort_values(by=0, ascending=False)\n",
    "null_col3 = null_col3.rename(columns={0: \"Percentage of NaN\"})\n",
    "null_col3['type'] = [\"categorical\" if x in categorical_column2 else \"numeric\" for x in null_col3['index']]"
   ]
  },
  {
   "cell_type": "code",
   "execution_count": 31,
   "id": "8427a63e-698d-4f14-a909-c5fdc633dc4d",
   "metadata": {
    "tags": []
   },
   "outputs": [
    {
     "data": {
      "text/html": [
       "<div>\n",
       "<style scoped>\n",
       "    .dataframe tbody tr th:only-of-type {\n",
       "        vertical-align: middle;\n",
       "    }\n",
       "\n",
       "    .dataframe tbody tr th {\n",
       "        vertical-align: top;\n",
       "    }\n",
       "\n",
       "    .dataframe thead th {\n",
       "        text-align: right;\n",
       "    }\n",
       "</style>\n",
       "<table border=\"1\" class=\"dataframe\">\n",
       "  <thead>\n",
       "    <tr style=\"text-align: right;\">\n",
       "      <th></th>\n",
       "      <th>index</th>\n",
       "      <th>Percentage of NaN</th>\n",
       "      <th>type</th>\n",
       "    </tr>\n",
       "  </thead>\n",
       "  <tbody>\n",
       "  </tbody>\n",
       "</table>\n",
       "</div>"
      ],
      "text/plain": [
       "Empty DataFrame\n",
       "Columns: [index, Percentage of NaN, type]\n",
       "Index: []"
      ]
     },
     "execution_count": 31,
     "metadata": {},
     "output_type": "execute_result"
    }
   ],
   "source": [
    "null_col3"
   ]
  },
  {
   "cell_type": "code",
   "execution_count": 32,
   "id": "1ddff184-d7cc-4e68-939d-0a5b37f739c0",
   "metadata": {
    "tags": []
   },
   "outputs": [
    {
     "data": {
      "text/html": [
       "<div>\n",
       "<style scoped>\n",
       "    .dataframe tbody tr th:only-of-type {\n",
       "        vertical-align: middle;\n",
       "    }\n",
       "\n",
       "    .dataframe tbody tr th {\n",
       "        vertical-align: top;\n",
       "    }\n",
       "\n",
       "    .dataframe thead th {\n",
       "        text-align: right;\n",
       "    }\n",
       "</style>\n",
       "<table border=\"1\" class=\"dataframe\">\n",
       "  <thead>\n",
       "    <tr style=\"text-align: right;\">\n",
       "      <th></th>\n",
       "      <th>year</th>\n",
       "      <th>motor_volume</th>\n",
       "      <th>running_numeric</th>\n",
       "      <th>model_hyundai</th>\n",
       "      <th>model_kia</th>\n",
       "      <th>model_mercedes-benz</th>\n",
       "      <th>model_nissan</th>\n",
       "      <th>model_toyota</th>\n",
       "      <th>motor_type_gas</th>\n",
       "      <th>motor_type_petrol</th>\n",
       "      <th>...</th>\n",
       "      <th>type_Coupe</th>\n",
       "      <th>type_Universal</th>\n",
       "      <th>type_hatchback</th>\n",
       "      <th>type_sedan</th>\n",
       "      <th>type_suv</th>\n",
       "      <th>status_crashed</th>\n",
       "      <th>status_excellent</th>\n",
       "      <th>status_good</th>\n",
       "      <th>status_new</th>\n",
       "      <th>status_normal</th>\n",
       "    </tr>\n",
       "  </thead>\n",
       "  <tbody>\n",
       "    <tr>\n",
       "      <th>0</th>\n",
       "      <td>False</td>\n",
       "      <td>False</td>\n",
       "      <td>False</td>\n",
       "      <td>False</td>\n",
       "      <td>False</td>\n",
       "      <td>False</td>\n",
       "      <td>False</td>\n",
       "      <td>False</td>\n",
       "      <td>False</td>\n",
       "      <td>False</td>\n",
       "      <td>...</td>\n",
       "      <td>False</td>\n",
       "      <td>False</td>\n",
       "      <td>False</td>\n",
       "      <td>False</td>\n",
       "      <td>False</td>\n",
       "      <td>False</td>\n",
       "      <td>False</td>\n",
       "      <td>False</td>\n",
       "      <td>False</td>\n",
       "      <td>False</td>\n",
       "    </tr>\n",
       "    <tr>\n",
       "      <th>1</th>\n",
       "      <td>False</td>\n",
       "      <td>False</td>\n",
       "      <td>False</td>\n",
       "      <td>False</td>\n",
       "      <td>False</td>\n",
       "      <td>False</td>\n",
       "      <td>False</td>\n",
       "      <td>False</td>\n",
       "      <td>False</td>\n",
       "      <td>False</td>\n",
       "      <td>...</td>\n",
       "      <td>False</td>\n",
       "      <td>False</td>\n",
       "      <td>False</td>\n",
       "      <td>False</td>\n",
       "      <td>False</td>\n",
       "      <td>False</td>\n",
       "      <td>False</td>\n",
       "      <td>False</td>\n",
       "      <td>False</td>\n",
       "      <td>False</td>\n",
       "    </tr>\n",
       "    <tr>\n",
       "      <th>2</th>\n",
       "      <td>False</td>\n",
       "      <td>False</td>\n",
       "      <td>False</td>\n",
       "      <td>False</td>\n",
       "      <td>False</td>\n",
       "      <td>False</td>\n",
       "      <td>False</td>\n",
       "      <td>False</td>\n",
       "      <td>False</td>\n",
       "      <td>False</td>\n",
       "      <td>...</td>\n",
       "      <td>False</td>\n",
       "      <td>False</td>\n",
       "      <td>False</td>\n",
       "      <td>False</td>\n",
       "      <td>False</td>\n",
       "      <td>False</td>\n",
       "      <td>False</td>\n",
       "      <td>False</td>\n",
       "      <td>False</td>\n",
       "      <td>False</td>\n",
       "    </tr>\n",
       "    <tr>\n",
       "      <th>3</th>\n",
       "      <td>False</td>\n",
       "      <td>False</td>\n",
       "      <td>False</td>\n",
       "      <td>False</td>\n",
       "      <td>False</td>\n",
       "      <td>False</td>\n",
       "      <td>False</td>\n",
       "      <td>False</td>\n",
       "      <td>False</td>\n",
       "      <td>False</td>\n",
       "      <td>...</td>\n",
       "      <td>False</td>\n",
       "      <td>False</td>\n",
       "      <td>False</td>\n",
       "      <td>False</td>\n",
       "      <td>False</td>\n",
       "      <td>False</td>\n",
       "      <td>False</td>\n",
       "      <td>False</td>\n",
       "      <td>False</td>\n",
       "      <td>False</td>\n",
       "    </tr>\n",
       "    <tr>\n",
       "      <th>4</th>\n",
       "      <td>False</td>\n",
       "      <td>False</td>\n",
       "      <td>False</td>\n",
       "      <td>False</td>\n",
       "      <td>False</td>\n",
       "      <td>False</td>\n",
       "      <td>False</td>\n",
       "      <td>False</td>\n",
       "      <td>False</td>\n",
       "      <td>False</td>\n",
       "      <td>...</td>\n",
       "      <td>False</td>\n",
       "      <td>False</td>\n",
       "      <td>False</td>\n",
       "      <td>False</td>\n",
       "      <td>False</td>\n",
       "      <td>False</td>\n",
       "      <td>False</td>\n",
       "      <td>False</td>\n",
       "      <td>False</td>\n",
       "      <td>False</td>\n",
       "    </tr>\n",
       "    <tr>\n",
       "      <th>...</th>\n",
       "      <td>...</td>\n",
       "      <td>...</td>\n",
       "      <td>...</td>\n",
       "      <td>...</td>\n",
       "      <td>...</td>\n",
       "      <td>...</td>\n",
       "      <td>...</td>\n",
       "      <td>...</td>\n",
       "      <td>...</td>\n",
       "      <td>...</td>\n",
       "      <td>...</td>\n",
       "      <td>...</td>\n",
       "      <td>...</td>\n",
       "      <td>...</td>\n",
       "      <td>...</td>\n",
       "      <td>...</td>\n",
       "      <td>...</td>\n",
       "      <td>...</td>\n",
       "      <td>...</td>\n",
       "      <td>...</td>\n",
       "      <td>...</td>\n",
       "    </tr>\n",
       "    <tr>\n",
       "      <th>406</th>\n",
       "      <td>False</td>\n",
       "      <td>False</td>\n",
       "      <td>False</td>\n",
       "      <td>False</td>\n",
       "      <td>False</td>\n",
       "      <td>False</td>\n",
       "      <td>False</td>\n",
       "      <td>False</td>\n",
       "      <td>False</td>\n",
       "      <td>False</td>\n",
       "      <td>...</td>\n",
       "      <td>False</td>\n",
       "      <td>False</td>\n",
       "      <td>False</td>\n",
       "      <td>False</td>\n",
       "      <td>False</td>\n",
       "      <td>False</td>\n",
       "      <td>False</td>\n",
       "      <td>False</td>\n",
       "      <td>False</td>\n",
       "      <td>False</td>\n",
       "    </tr>\n",
       "    <tr>\n",
       "      <th>407</th>\n",
       "      <td>False</td>\n",
       "      <td>False</td>\n",
       "      <td>False</td>\n",
       "      <td>False</td>\n",
       "      <td>False</td>\n",
       "      <td>False</td>\n",
       "      <td>False</td>\n",
       "      <td>False</td>\n",
       "      <td>False</td>\n",
       "      <td>False</td>\n",
       "      <td>...</td>\n",
       "      <td>False</td>\n",
       "      <td>False</td>\n",
       "      <td>False</td>\n",
       "      <td>False</td>\n",
       "      <td>False</td>\n",
       "      <td>False</td>\n",
       "      <td>False</td>\n",
       "      <td>False</td>\n",
       "      <td>False</td>\n",
       "      <td>False</td>\n",
       "    </tr>\n",
       "    <tr>\n",
       "      <th>408</th>\n",
       "      <td>False</td>\n",
       "      <td>False</td>\n",
       "      <td>False</td>\n",
       "      <td>False</td>\n",
       "      <td>False</td>\n",
       "      <td>False</td>\n",
       "      <td>False</td>\n",
       "      <td>False</td>\n",
       "      <td>False</td>\n",
       "      <td>False</td>\n",
       "      <td>...</td>\n",
       "      <td>False</td>\n",
       "      <td>False</td>\n",
       "      <td>False</td>\n",
       "      <td>False</td>\n",
       "      <td>False</td>\n",
       "      <td>False</td>\n",
       "      <td>False</td>\n",
       "      <td>False</td>\n",
       "      <td>False</td>\n",
       "      <td>False</td>\n",
       "    </tr>\n",
       "    <tr>\n",
       "      <th>409</th>\n",
       "      <td>False</td>\n",
       "      <td>False</td>\n",
       "      <td>False</td>\n",
       "      <td>False</td>\n",
       "      <td>False</td>\n",
       "      <td>False</td>\n",
       "      <td>False</td>\n",
       "      <td>False</td>\n",
       "      <td>False</td>\n",
       "      <td>False</td>\n",
       "      <td>...</td>\n",
       "      <td>False</td>\n",
       "      <td>False</td>\n",
       "      <td>False</td>\n",
       "      <td>False</td>\n",
       "      <td>False</td>\n",
       "      <td>False</td>\n",
       "      <td>False</td>\n",
       "      <td>False</td>\n",
       "      <td>False</td>\n",
       "      <td>False</td>\n",
       "    </tr>\n",
       "    <tr>\n",
       "      <th>410</th>\n",
       "      <td>False</td>\n",
       "      <td>False</td>\n",
       "      <td>False</td>\n",
       "      <td>False</td>\n",
       "      <td>False</td>\n",
       "      <td>False</td>\n",
       "      <td>False</td>\n",
       "      <td>False</td>\n",
       "      <td>False</td>\n",
       "      <td>False</td>\n",
       "      <td>...</td>\n",
       "      <td>False</td>\n",
       "      <td>False</td>\n",
       "      <td>False</td>\n",
       "      <td>False</td>\n",
       "      <td>False</td>\n",
       "      <td>False</td>\n",
       "      <td>False</td>\n",
       "      <td>False</td>\n",
       "      <td>False</td>\n",
       "      <td>False</td>\n",
       "    </tr>\n",
       "  </tbody>\n",
       "</table>\n",
       "<p>411 rows × 37 columns</p>\n",
       "</div>"
      ],
      "text/plain": [
       "      year  motor_volume  running_numeric  model_hyundai  model_kia  \\\n",
       "0    False         False            False          False      False   \n",
       "1    False         False            False          False      False   \n",
       "2    False         False            False          False      False   \n",
       "3    False         False            False          False      False   \n",
       "4    False         False            False          False      False   \n",
       "..     ...           ...              ...            ...        ...   \n",
       "406  False         False            False          False      False   \n",
       "407  False         False            False          False      False   \n",
       "408  False         False            False          False      False   \n",
       "409  False         False            False          False      False   \n",
       "410  False         False            False          False      False   \n",
       "\n",
       "     model_mercedes-benz  model_nissan  model_toyota  motor_type_gas  \\\n",
       "0                  False         False         False           False   \n",
       "1                  False         False         False           False   \n",
       "2                  False         False         False           False   \n",
       "3                  False         False         False           False   \n",
       "4                  False         False         False           False   \n",
       "..                   ...           ...           ...             ...   \n",
       "406                False         False         False           False   \n",
       "407                False         False         False           False   \n",
       "408                False         False         False           False   \n",
       "409                False         False         False           False   \n",
       "410                False         False         False           False   \n",
       "\n",
       "     motor_type_petrol  ...  type_Coupe  type_Universal  type_hatchback  \\\n",
       "0                False  ...       False           False           False   \n",
       "1                False  ...       False           False           False   \n",
       "2                False  ...       False           False           False   \n",
       "3                False  ...       False           False           False   \n",
       "4                False  ...       False           False           False   \n",
       "..                 ...  ...         ...             ...             ...   \n",
       "406              False  ...       False           False           False   \n",
       "407              False  ...       False           False           False   \n",
       "408              False  ...       False           False           False   \n",
       "409              False  ...       False           False           False   \n",
       "410              False  ...       False           False           False   \n",
       "\n",
       "     type_sedan  type_suv  status_crashed  status_excellent  status_good  \\\n",
       "0         False     False           False             False        False   \n",
       "1         False     False           False             False        False   \n",
       "2         False     False           False             False        False   \n",
       "3         False     False           False             False        False   \n",
       "4         False     False           False             False        False   \n",
       "..          ...       ...             ...               ...          ...   \n",
       "406       False     False           False             False        False   \n",
       "407       False     False           False             False        False   \n",
       "408       False     False           False             False        False   \n",
       "409       False     False           False             False        False   \n",
       "410       False     False           False             False        False   \n",
       "\n",
       "     status_new  status_normal  \n",
       "0         False          False  \n",
       "1         False          False  \n",
       "2         False          False  \n",
       "3         False          False  \n",
       "4         False          False  \n",
       "..          ...            ...  \n",
       "406       False          False  \n",
       "407       False          False  \n",
       "408       False          False  \n",
       "409       False          False  \n",
       "410       False          False  \n",
       "\n",
       "[411 rows x 37 columns]"
      ]
     },
     "execution_count": 32,
     "metadata": {},
     "output_type": "execute_result"
    }
   ],
   "source": [
    "test_data.isnull()"
   ]
  },
  {
   "cell_type": "markdown",
   "id": "92e1fd54-55b9-4571-9fa1-7a27d8d57b00",
   "metadata": {},
   "source": [
    "### 3. Fit Machine Learning models and select the most appropriate one"
   ]
  },
  {
   "cell_type": "markdown",
   "id": "918c9cc8-2a04-46e0-bd1e-63d966c0a3bd",
   "metadata": {},
   "source": [
    "##### In this part, as there is no \"price\" value in the given test data, so my method is: I first randomly split the train data into train_inner data and test_inner data by 70% and 30% respectively. Second, use train_inner data to train different models, and use the trained models to predict \"price\" column of the test_inner data. And third, using MAE and RMSE of predicted \"price\" value and real \"price\" value in the test_inner data as criteria to make comparison between each model to select the most appropriate one. At last, train the most appropriate model selected by last step based on given train data to predict the \"price\" value in given test data. "
   ]
  },
  {
   "cell_type": "code",
   "execution_count": 33,
   "id": "5895c02e-b764-4e0e-bbaf-5550aeb4a18d",
   "metadata": {
    "tags": []
   },
   "outputs": [],
   "source": [
    "np.random.seed(100)\n",
    "train_inner, test_inner = train_test_split(train_data, test_size = 0.3)"
   ]
  },
  {
   "cell_type": "code",
   "execution_count": 34,
   "id": "7adad955-30ee-4914-b7cf-53f602e56e84",
   "metadata": {
    "tags": []
   },
   "outputs": [],
   "source": [
    "Train = train_inner.drop(columns = ['price']).values\n",
    "Train_y = train_inner['price'].values\n",
    "Test = test_inner.drop(columns = ['price']).values\n",
    "Test_y = test_inner['price'].values"
   ]
  },
  {
   "cell_type": "markdown",
   "id": "89d83699-f728-41ef-a854-64f11cd58220",
   "metadata": {},
   "source": [
    "#### 3.1. OLS Regression"
   ]
  },
  {
   "cell_type": "code",
   "execution_count": 35,
   "id": "bea04855-8c44-43de-951e-b3a8bce59dbf",
   "metadata": {
    "tags": []
   },
   "outputs": [],
   "source": [
    "# Set up OLS regression model and fit the model by train data\n",
    "OLS= LinearRegression()\n",
    "OLS.fit(Train, Train_y)\n",
    "OLS_predict = OLS.predict(Test)"
   ]
  },
  {
   "cell_type": "code",
   "execution_count": 36,
   "id": "86b858bf-c222-4b9b-915e-81161155337b",
   "metadata": {
    "tags": []
   },
   "outputs": [
    {
     "name": "stdout",
     "output_type": "stream",
     "text": [
      "OLS train score: 0.4420575299825814\n",
      "OLS test score: 0.37440203086781665\n"
     ]
    }
   ],
   "source": [
    "# Get the R-squared scores to see the fitness of data to the model\n",
    "OLS_train_score=OLS.score(Train, Train_y)\n",
    "OLS_test_score=OLS.score(Test,Test_y)\n",
    "print(f\"OLS train score: {OLS_train_score}\")\n",
    "print(f\"OLS test score: {OLS_test_score}\")"
   ]
  },
  {
   "cell_type": "code",
   "execution_count": 37,
   "id": "3025f251-2f8f-4447-8bed-dd9457e932f3",
   "metadata": {
    "tags": []
   },
   "outputs": [],
   "source": [
    "# Get the MAE and RMSE values of models as criteria. \n",
    "MAE_OLS = mean_absolute_error(Test_y, OLS_predict)\n",
    "rmse_OLS = np.sqrt(mean_squared_error(Test_y, OLS_predict))"
   ]
  },
  {
   "cell_type": "code",
   "execution_count": 38,
   "id": "371a641f-b809-42bf-b090-7e68ffba4134",
   "metadata": {
    "tags": []
   },
   "outputs": [
    {
     "name": "stdout",
     "output_type": "stream",
     "text": [
      "The OLS MAE is: 3725.2894282647476\n",
      "The RMSE is: 5677.129793807014\n"
     ]
    }
   ],
   "source": [
    "print(\"The OLS MAE is:\", MAE_OLS)\n",
    "print(\"The RMSE is:\", rmse_OLS)"
   ]
  },
  {
   "cell_type": "markdown",
   "id": "7c7a8a24-ed49-4085-9ad0-57534683871e",
   "metadata": {},
   "source": [
    "#### 3.2. LASSO Regression"
   ]
  },
  {
   "cell_type": "code",
   "execution_count": 39,
   "id": "f9e0c904-c2c1-43a7-9eda-be2b51bd64cb",
   "metadata": {
    "tags": []
   },
   "outputs": [
    {
     "data": {
      "text/html": [
       "<style>#sk-container-id-1 {color: black;}#sk-container-id-1 pre{padding: 0;}#sk-container-id-1 div.sk-toggleable {background-color: white;}#sk-container-id-1 label.sk-toggleable__label {cursor: pointer;display: block;width: 100%;margin-bottom: 0;padding: 0.3em;box-sizing: border-box;text-align: center;}#sk-container-id-1 label.sk-toggleable__label-arrow:before {content: \"▸\";float: left;margin-right: 0.25em;color: #696969;}#sk-container-id-1 label.sk-toggleable__label-arrow:hover:before {color: black;}#sk-container-id-1 div.sk-estimator:hover label.sk-toggleable__label-arrow:before {color: black;}#sk-container-id-1 div.sk-toggleable__content {max-height: 0;max-width: 0;overflow: hidden;text-align: left;background-color: #f0f8ff;}#sk-container-id-1 div.sk-toggleable__content pre {margin: 0.2em;color: black;border-radius: 0.25em;background-color: #f0f8ff;}#sk-container-id-1 input.sk-toggleable__control:checked~div.sk-toggleable__content {max-height: 200px;max-width: 100%;overflow: auto;}#sk-container-id-1 input.sk-toggleable__control:checked~label.sk-toggleable__label-arrow:before {content: \"▾\";}#sk-container-id-1 div.sk-estimator input.sk-toggleable__control:checked~label.sk-toggleable__label {background-color: #d4ebff;}#sk-container-id-1 div.sk-label input.sk-toggleable__control:checked~label.sk-toggleable__label {background-color: #d4ebff;}#sk-container-id-1 input.sk-hidden--visually {border: 0;clip: rect(1px 1px 1px 1px);clip: rect(1px, 1px, 1px, 1px);height: 1px;margin: -1px;overflow: hidden;padding: 0;position: absolute;width: 1px;}#sk-container-id-1 div.sk-estimator {font-family: monospace;background-color: #f0f8ff;border: 1px dotted black;border-radius: 0.25em;box-sizing: border-box;margin-bottom: 0.5em;}#sk-container-id-1 div.sk-estimator:hover {background-color: #d4ebff;}#sk-container-id-1 div.sk-parallel-item::after {content: \"\";width: 100%;border-bottom: 1px solid gray;flex-grow: 1;}#sk-container-id-1 div.sk-label:hover label.sk-toggleable__label {background-color: #d4ebff;}#sk-container-id-1 div.sk-serial::before {content: \"\";position: absolute;border-left: 1px solid gray;box-sizing: border-box;top: 0;bottom: 0;left: 50%;z-index: 0;}#sk-container-id-1 div.sk-serial {display: flex;flex-direction: column;align-items: center;background-color: white;padding-right: 0.2em;padding-left: 0.2em;position: relative;}#sk-container-id-1 div.sk-item {position: relative;z-index: 1;}#sk-container-id-1 div.sk-parallel {display: flex;align-items: stretch;justify-content: center;background-color: white;position: relative;}#sk-container-id-1 div.sk-item::before, #sk-container-id-1 div.sk-parallel-item::before {content: \"\";position: absolute;border-left: 1px solid gray;box-sizing: border-box;top: 0;bottom: 0;left: 50%;z-index: -1;}#sk-container-id-1 div.sk-parallel-item {display: flex;flex-direction: column;z-index: 1;position: relative;background-color: white;}#sk-container-id-1 div.sk-parallel-item:first-child::after {align-self: flex-end;width: 50%;}#sk-container-id-1 div.sk-parallel-item:last-child::after {align-self: flex-start;width: 50%;}#sk-container-id-1 div.sk-parallel-item:only-child::after {width: 0;}#sk-container-id-1 div.sk-dashed-wrapped {border: 1px dashed gray;margin: 0 0.4em 0.5em 0.4em;box-sizing: border-box;padding-bottom: 0.4em;background-color: white;}#sk-container-id-1 div.sk-label label {font-family: monospace;font-weight: bold;display: inline-block;line-height: 1.2em;}#sk-container-id-1 div.sk-label-container {text-align: center;}#sk-container-id-1 div.sk-container {/* jupyter's `normalize.less` sets `[hidden] { display: none; }` but bootstrap.min.css set `[hidden] { display: none !important; }` so we also need the `!important` here to be able to override the default hidden behavior on the sphinx rendered scikit-learn.org. See: https://github.com/scikit-learn/scikit-learn/issues/21755 */display: inline-block !important;position: relative;}#sk-container-id-1 div.sk-text-repr-fallback {display: none;}</style><div id=\"sk-container-id-1\" class=\"sk-top-container\"><div class=\"sk-text-repr-fallback\"><pre>Lasso()</pre><b>In a Jupyter environment, please rerun this cell to show the HTML representation or trust the notebook. <br />On GitHub, the HTML representation is unable to render, please try loading this page with nbviewer.org.</b></div><div class=\"sk-container\" hidden><div class=\"sk-item\"><div class=\"sk-estimator sk-toggleable\"><input class=\"sk-toggleable__control sk-hidden--visually\" id=\"sk-estimator-id-1\" type=\"checkbox\" checked><label for=\"sk-estimator-id-1\" class=\"sk-toggleable__label sk-toggleable__label-arrow\">Lasso</label><div class=\"sk-toggleable__content\"><pre>Lasso()</pre></div></div></div></div></div>"
      ],
      "text/plain": [
       "Lasso()"
      ]
     },
     "execution_count": 39,
     "metadata": {},
     "output_type": "execute_result"
    }
   ],
   "source": [
    "# Set up LASSO regression model and fit the model by train data\n",
    "LASSO = Lasso()\n",
    "LASSO.fit(Train, Train_y)"
   ]
  },
  {
   "cell_type": "code",
   "execution_count": 40,
   "id": "418926b2-d858-4601-971a-deb99c7a6dc9",
   "metadata": {
    "scrolled": true,
    "tags": []
   },
   "outputs": [
    {
     "name": "stderr",
     "output_type": "stream",
     "text": [
      "/Users/jiaweizou/anaconda3/lib/python3.11/site-packages/sklearn/linear_model/_coordinate_descent.py:628: ConvergenceWarning: Objective did not converge. You might want to increase the number of iterations, check the scale of the features or consider increasing regularisation. Duality gap: 4.219e+09, tolerance: 4.452e+06\n",
      "  model = cd_fast.enet_coordinate_descent(\n",
      "/Users/jiaweizou/anaconda3/lib/python3.11/site-packages/sklearn/linear_model/_coordinate_descent.py:628: ConvergenceWarning: Objective did not converge. You might want to increase the number of iterations, check the scale of the features or consider increasing regularisation. Duality gap: 8.600e+08, tolerance: 4.089e+06\n",
      "  model = cd_fast.enet_coordinate_descent(\n",
      "/Users/jiaweizou/anaconda3/lib/python3.11/site-packages/sklearn/linear_model/_coordinate_descent.py:628: ConvergenceWarning: Objective did not converge. You might want to increase the number of iterations, check the scale of the features or consider increasing regularisation. Duality gap: 2.363e+09, tolerance: 3.999e+06\n",
      "  model = cd_fast.enet_coordinate_descent(\n",
      "/Users/jiaweizou/anaconda3/lib/python3.11/site-packages/sklearn/linear_model/_coordinate_descent.py:628: ConvergenceWarning: Objective did not converge. You might want to increase the number of iterations, check the scale of the features or consider increasing regularisation. Duality gap: 6.046e+08, tolerance: 3.628e+06\n",
      "  model = cd_fast.enet_coordinate_descent(\n",
      "/Users/jiaweizou/anaconda3/lib/python3.11/site-packages/sklearn/linear_model/_coordinate_descent.py:628: ConvergenceWarning: Objective did not converge. You might want to increase the number of iterations, check the scale of the features or consider increasing regularisation. Duality gap: 1.740e+09, tolerance: 4.452e+06\n",
      "  model = cd_fast.enet_coordinate_descent(\n",
      "/Users/jiaweizou/anaconda3/lib/python3.11/site-packages/sklearn/linear_model/_coordinate_descent.py:628: ConvergenceWarning: Objective did not converge. You might want to increase the number of iterations, check the scale of the features or consider increasing regularisation. Duality gap: 8.601e+08, tolerance: 4.089e+06\n",
      "  model = cd_fast.enet_coordinate_descent(\n",
      "/Users/jiaweizou/anaconda3/lib/python3.11/site-packages/sklearn/linear_model/_coordinate_descent.py:628: ConvergenceWarning: Objective did not converge. You might want to increase the number of iterations, check the scale of the features or consider increasing regularisation. Duality gap: 2.363e+09, tolerance: 3.999e+06\n",
      "  model = cd_fast.enet_coordinate_descent(\n",
      "/Users/jiaweizou/anaconda3/lib/python3.11/site-packages/sklearn/linear_model/_coordinate_descent.py:628: ConvergenceWarning: Objective did not converge. You might want to increase the number of iterations, check the scale of the features or consider increasing regularisation. Duality gap: 6.048e+08, tolerance: 3.628e+06\n",
      "  model = cd_fast.enet_coordinate_descent(\n",
      "/Users/jiaweizou/anaconda3/lib/python3.11/site-packages/sklearn/linear_model/_coordinate_descent.py:628: ConvergenceWarning: Objective did not converge. You might want to increase the number of iterations, check the scale of the features or consider increasing regularisation. Duality gap: 1.433e+08, tolerance: 4.089e+06\n",
      "  model = cd_fast.enet_coordinate_descent(\n",
      "/Users/jiaweizou/anaconda3/lib/python3.11/site-packages/sklearn/linear_model/_coordinate_descent.py:628: ConvergenceWarning: Objective did not converge. You might want to increase the number of iterations, check the scale of the features or consider increasing regularisation. Duality gap: 1.512e+08, tolerance: 3.999e+06\n",
      "  model = cd_fast.enet_coordinate_descent(\n"
     ]
    }
   ],
   "source": [
    "A= [0.001,0.01, 0.1, 1.0, 10.0]\n",
    "MSE_cleaned = []  \n",
    "for a in A:\n",
    "    LASSO = Lasso(alpha=a)\n",
    "    scores = cross_val_score(LASSO, Train, Train_y, cv=4, scoring='neg_mean_squared_error')\n",
    "    MSE_mean = -np.mean(scores)\n",
    "    MSE_cleaned.append(MSE_mean)"
   ]
  },
  {
   "cell_type": "code",
   "execution_count": 41,
   "id": "1b22e312-8c68-4022-88d8-4e720d9efebb",
   "metadata": {
    "tags": []
   },
   "outputs": [
    {
     "data": {
      "image/png": "[encoded data removed]",
      "text/plain": [
       "<Figure size 640x480 with 1 Axes>"
      ]
     },
     "metadata": {},
     "output_type": "display_data"
    }
   ],
   "source": [
    "plt.plot(A, MSE_cleaned)\n",
    "plt.xlabel('a')\n",
    "plt.ylabel('MSE')\n",
    "plt.title('Lasso MSE by different parameters (a)')\n",
    "plt.xscale('log')  \n",
    "plt.show()"
   ]
  },
  {
   "cell_type": "code",
   "execution_count": 42,
   "id": "c31bd190-2d29-4ef7-b437-95902ba70eb7",
   "metadata": {
    "tags": []
   },
   "outputs": [
    {
     "name": "stdout",
     "output_type": "stream",
     "text": [
      "The Best Alpha is 10.0\n"
     ]
    }
   ],
   "source": [
    "# Select the best alpha to fit the model\n",
    "Alpha_Best = A[np.argmin(MSE_cleaned)]  \n",
    "print(\"The Best Alpha is\",Alpha_Best)"
   ]
  },
  {
   "cell_type": "code",
   "execution_count": 43,
   "id": "fd075725-e303-484f-94e5-83f6e0ab58cf",
   "metadata": {
    "tags": []
   },
   "outputs": [],
   "source": [
    "LASSO = Lasso(alpha=Alpha_Best)\n",
    "LASSO.fit(Train, Train_y)\n",
    "LASSO_predict = LASSO.predict(Test)"
   ]
  },
  {
   "cell_type": "code",
   "execution_count": 44,
   "id": "53668005-c315-42b4-8bab-2d728eb353cd",
   "metadata": {
    "tags": []
   },
   "outputs": [
    {
     "name": "stdout",
     "output_type": "stream",
     "text": [
      "LASSO train score: 0.4358886943226954\n",
      "LASSO test score: 0.3846773002019671\n"
     ]
    }
   ],
   "source": [
    "# Get the R-squared scores to see the fitness of data to the model\n",
    "LASSO_train_score=LASSO.score(Train, Train_y)\n",
    "LASSO_test_score=LASSO.score(Test,Test_y)\n",
    "print(f\"LASSO train score: {LASSO_train_score}\")\n",
    "print(f\"LASSO test score: {LASSO_test_score}\")"
   ]
  },
  {
   "cell_type": "code",
   "execution_count": 45,
   "id": "537f3bcd-6fdd-4458-979f-c25aafb4fe2a",
   "metadata": {
    "tags": []
   },
   "outputs": [],
   "source": [
    "# Get the MAE and RMSE values of models as criteria. \n",
    "MAE_LASSO = mean_absolute_error(Test_y, LASSO_predict)\n",
    "rmse_LASSO = np.sqrt(mean_squared_error(Test_y, LASSO_predict))"
   ]
  },
  {
   "cell_type": "code",
   "execution_count": 46,
   "id": "9356e9f6-5db5-4c5b-9d9b-9e847c6c9754",
   "metadata": {
    "tags": []
   },
   "outputs": [
    {
     "name": "stdout",
     "output_type": "stream",
     "text": [
      "The Lasso MAE is: 3684.6435339260033\n",
      "The Lasso RMSE is: 5630.314140536109\n"
     ]
    }
   ],
   "source": [
    "print(\"The Lasso MAE is:\", MAE_LASSO)\n",
    "print(\"The Lasso RMSE is:\", rmse_LASSO)"
   ]
  },
  {
   "cell_type": "markdown",
   "id": "ebb687f3-15e3-4ecb-9ecd-6197e622b7e4",
   "metadata": {},
   "source": [
    "#### 3.3 CART"
   ]
  },
  {
   "cell_type": "code",
   "execution_count": 47,
   "id": "f4649ed6-4ad1-48c3-9851-bf2568b8bd63",
   "metadata": {
    "tags": []
   },
   "outputs": [],
   "source": [
    "# Set up CART regression model and fit the model by train data\n",
    "CART_model = DecisionTreeClassifier()"
   ]
  },
  {
   "cell_type": "code",
   "execution_count": 48,
   "id": "fb63df02-a978-400d-b911-3df7f9da45d4",
   "metadata": {
    "tags": []
   },
   "outputs": [],
   "source": [
    "parameter_grid = {\n",
    "    'max_depth': [3, 4, 7, None],  \n",
    "    'min_samples_split': [3, 7, 10], \n",
    "    'min_samples_leaf': [2, 4, 7],  \n",
    "}\n",
    "grid_search = GridSearchCV(CART_model, parameter_grid, cv=5, scoring='accuracy')"
   ]
  },
  {
   "cell_type": "code",
   "execution_count": 49,
   "id": "0c082814-5ab8-491f-97d5-7d8636f05d94",
   "metadata": {
    "tags": []
   },
   "outputs": [
    {
     "name": "stderr",
     "output_type": "stream",
     "text": [
      "/Users/jiaweizou/anaconda3/lib/python3.11/site-packages/sklearn/model_selection/_split.py:725: UserWarning: The least populated class in y has only 1 members, which is less than n_splits=5.\n",
      "  warnings.warn(\n"
     ]
    },
    {
     "name": "stdout",
     "output_type": "stream",
     "text": [
      "Best parameter combination: {'max_depth': 3, 'min_samples_leaf': 4, 'min_samples_split': 3}\n"
     ]
    }
   ],
   "source": [
    "grid_search.fit(Train, Train_y)\n",
    "print(\"Best parameter combination:\", grid_search.best_params_)"
   ]
  },
  {
   "cell_type": "code",
   "execution_count": 50,
   "id": "e5a2025c-c2ee-401c-91fa-d3ecde2712a3",
   "metadata": {
    "tags": []
   },
   "outputs": [],
   "source": [
    "# Fit the best CART model\n",
    "CART_best = grid_search.best_estimator_\n",
    "Test_y_predict_CART = CART_best.predict(Test)"
   ]
  },
  {
   "cell_type": "code",
   "execution_count": 51,
   "id": "680cd274-31dd-4f34-b5a1-9d61aa42c901",
   "metadata": {
    "tags": []
   },
   "outputs": [],
   "source": [
    "# Get the MAE and RMSE values of models as criteria. \n",
    "MAE_CART = mean_absolute_error(Test_y, Test_y_predict_CART)\n",
    "rmse_CART = np.sqrt(mean_squared_error(Test_y, Test_y_predict_CART))"
   ]
  },
  {
   "cell_type": "code",
   "execution_count": 52,
   "id": "1920059f-621f-40bc-95a6-2c49bec35a83",
   "metadata": {
    "tags": []
   },
   "outputs": [
    {
     "name": "stdout",
     "output_type": "stream",
     "text": [
      "The CART MAE is: 3389.3304721030045\n",
      "The CART RMSE is: 5574.576101207563\n"
     ]
    }
   ],
   "source": [
    "print(\"The CART MAE is:\", MAE_CART)\n",
    "print(\"The CART RMSE is:\", rmse_CART)"
   ]
  },
  {
   "cell_type": "code",
   "execution_count": 53,
   "id": "0543f0fd-9be0-4ddf-aa04-197f6287fe88",
   "metadata": {
    "tags": []
   },
   "outputs": [
    {
     "name": "stdout",
     "output_type": "stream",
     "text": [
      "CART_best train score: 0.07649769585253456\n",
      "CART_best test score: 0.030042918454935622\n"
     ]
    }
   ],
   "source": [
    "# Get the R-squared scores to see the fitness of data to the model\n",
    "CART_train_score=CART_best.score(Train, Train_y)\n",
    "CART_test_score=CART_best.score(Test,Test_y)\n",
    "print(f\"CART_best train score: {CART_train_score}\")\n",
    "print(f\"CART_best test score: {CART_test_score}\")"
   ]
  },
  {
   "cell_type": "markdown",
   "id": "30987212-dac6-4dae-98ee-1ffb5cf20907",
   "metadata": {},
   "source": [
    "#### 3.4 Logistic Model"
   ]
  },
  {
   "cell_type": "code",
   "execution_count": 54,
   "id": "a9b7efd5-0d8c-4d18-976f-de28c7fa6c12",
   "metadata": {
    "tags": []
   },
   "outputs": [
    {
     "name": "stderr",
     "output_type": "stream",
     "text": [
      "/Users/jiaweizou/anaconda3/lib/python3.11/site-packages/sklearn/linear_model/_logistic.py:460: ConvergenceWarning: lbfgs failed to converge (status=1):\n",
      "STOP: TOTAL NO. of ITERATIONS REACHED LIMIT.\n",
      "\n",
      "Increase the number of iterations (max_iter) or scale the data as shown in:\n",
      "    https://scikit-learn.org/stable/modules/preprocessing.html\n",
      "Please also refer to the documentation for alternative solver options:\n",
      "    https://scikit-learn.org/stable/modules/linear_model.html#logistic-regression\n",
      "  n_iter_i = _check_optimize_result(\n"
     ]
    }
   ],
   "source": [
    "# Set up a Logistic model and fit the model by train data\n",
    "logistic_model = LogisticRegression(fit_intercept=True, max_iter=1000).fit(Train,Train_y)\n",
    "logistic_pred_test = logistic_model.predict(Test)"
   ]
  },
  {
   "cell_type": "code",
   "execution_count": 55,
   "id": "4becee74-b890-4f39-83bf-9202ae5fdaa7",
   "metadata": {
    "tags": []
   },
   "outputs": [],
   "source": [
    "# Get the MAE and RMSE values of models as criteria. \n",
    "MAE_logistic = mean_absolute_error(Test_y, logistic_pred_test)\n",
    "rmse_logistic = np.sqrt(mean_squared_error(Test_y, logistic_pred_test))"
   ]
  },
  {
   "cell_type": "code",
   "execution_count": 56,
   "id": "5ef4b7bb-a975-436b-b545-94fa3e6ac39e",
   "metadata": {
    "tags": []
   },
   "outputs": [
    {
     "name": "stdout",
     "output_type": "stream",
     "text": [
      "The Random Forest MAE is: 4135.93991416309\n",
      "The Random Forest RMSE is: 6323.570305770085\n"
     ]
    }
   ],
   "source": [
    "print(\"The Random Forest MAE is:\", MAE_logistic)\n",
    "print(\"The Random Forest RMSE is:\", rmse_logistic)"
   ]
  },
  {
   "cell_type": "code",
   "execution_count": 57,
   "id": "4c7ea783-450f-447c-b633-5539b37eb499",
   "metadata": {
    "tags": []
   },
   "outputs": [
    {
     "name": "stdout",
     "output_type": "stream",
     "text": [
      "Logistic train score: 0.04884792626728111\n",
      "Logistic test score: 0.03862660944206009\n"
     ]
    }
   ],
   "source": [
    "# Get the R-squared scores to see the fitness of data to the model\n",
    "Logistic_train_score=logistic_model.score(Train, Train_y)\n",
    "Logistic_test_score=logistic_model.score(Test,Test_y)\n",
    "print(f\"Logistic train score: {Logistic_train_score}\")\n",
    "print(f\"Logistic test score: {Logistic_test_score}\")"
   ]
  },
  {
   "cell_type": "markdown",
   "id": "f45c6773-43f0-49d1-81a1-747ddfb2ba67",
   "metadata": {},
   "source": [
    "#### 3.5 Random Forest"
   ]
  },
  {
   "cell_type": "code",
   "execution_count": 58,
   "id": "46319a3b-a072-4181-954e-080aaf19f577",
   "metadata": {
    "tags": []
   },
   "outputs": [
    {
     "data": {
      "text/html": [
       "<style>#sk-container-id-2 {color: black;}#sk-container-id-2 pre{padding: 0;}#sk-container-id-2 div.sk-toggleable {background-color: white;}#sk-container-id-2 label.sk-toggleable__label {cursor: pointer;display: block;width: 100%;margin-bottom: 0;padding: 0.3em;box-sizing: border-box;text-align: center;}#sk-container-id-2 label.sk-toggleable__label-arrow:before {content: \"▸\";float: left;margin-right: 0.25em;color: #696969;}#sk-container-id-2 label.sk-toggleable__label-arrow:hover:before {color: black;}#sk-container-id-2 div.sk-estimator:hover label.sk-toggleable__label-arrow:before {color: black;}#sk-container-id-2 div.sk-toggleable__content {max-height: 0;max-width: 0;overflow: hidden;text-align: left;background-color: #f0f8ff;}#sk-container-id-2 div.sk-toggleable__content pre {margin: 0.2em;color: black;border-radius: 0.25em;background-color: #f0f8ff;}#sk-container-id-2 input.sk-toggleable__control:checked~div.sk-toggleable__content {max-height: 200px;max-width: 100%;overflow: auto;}#sk-container-id-2 input.sk-toggleable__control:checked~label.sk-toggleable__label-arrow:before {content: \"▾\";}#sk-container-id-2 div.sk-estimator input.sk-toggleable__control:checked~label.sk-toggleable__label {background-color: #d4ebff;}#sk-container-id-2 div.sk-label input.sk-toggleable__control:checked~label.sk-toggleable__label {background-color: #d4ebff;}#sk-container-id-2 input.sk-hidden--visually {border: 0;clip: rect(1px 1px 1px 1px);clip: rect(1px, 1px, 1px, 1px);height: 1px;margin: -1px;overflow: hidden;padding: 0;position: absolute;width: 1px;}#sk-container-id-2 div.sk-estimator {font-family: monospace;background-color: #f0f8ff;border: 1px dotted black;border-radius: 0.25em;box-sizing: border-box;margin-bottom: 0.5em;}#sk-container-id-2 div.sk-estimator:hover {background-color: #d4ebff;}#sk-container-id-2 div.sk-parallel-item::after {content: \"\";width: 100%;border-bottom: 1px solid gray;flex-grow: 1;}#sk-container-id-2 div.sk-label:hover label.sk-toggleable__label {background-color: #d4ebff;}#sk-container-id-2 div.sk-serial::before {content: \"\";position: absolute;border-left: 1px solid gray;box-sizing: border-box;top: 0;bottom: 0;left: 50%;z-index: 0;}#sk-container-id-2 div.sk-serial {display: flex;flex-direction: column;align-items: center;background-color: white;padding-right: 0.2em;padding-left: 0.2em;position: relative;}#sk-container-id-2 div.sk-item {position: relative;z-index: 1;}#sk-container-id-2 div.sk-parallel {display: flex;align-items: stretch;justify-content: center;background-color: white;position: relative;}#sk-container-id-2 div.sk-item::before, #sk-container-id-2 div.sk-parallel-item::before {content: \"\";position: absolute;border-left: 1px solid gray;box-sizing: border-box;top: 0;bottom: 0;left: 50%;z-index: -1;}#sk-container-id-2 div.sk-parallel-item {display: flex;flex-direction: column;z-index: 1;position: relative;background-color: white;}#sk-container-id-2 div.sk-parallel-item:first-child::after {align-self: flex-end;width: 50%;}#sk-container-id-2 div.sk-parallel-item:last-child::after {align-self: flex-start;width: 50%;}#sk-container-id-2 div.sk-parallel-item:only-child::after {width: 0;}#sk-container-id-2 div.sk-dashed-wrapped {border: 1px dashed gray;margin: 0 0.4em 0.5em 0.4em;box-sizing: border-box;padding-bottom: 0.4em;background-color: white;}#sk-container-id-2 div.sk-label label {font-family: monospace;font-weight: bold;display: inline-block;line-height: 1.2em;}#sk-container-id-2 div.sk-label-container {text-align: center;}#sk-container-id-2 div.sk-container {/* jupyter's `normalize.less` sets `[hidden] { display: none; }` but bootstrap.min.css set `[hidden] { display: none !important; }` so we also need the `!important` here to be able to override the default hidden behavior on the sphinx rendered scikit-learn.org. See: https://github.com/scikit-learn/scikit-learn/issues/21755 */display: inline-block !important;position: relative;}#sk-container-id-2 div.sk-text-repr-fallback {display: none;}</style><div id=\"sk-container-id-2\" class=\"sk-top-container\"><div class=\"sk-text-repr-fallback\"><pre>RandomForestRegressor(max_features=30, n_estimators=660, random_state=1)</pre><b>In a Jupyter environment, please rerun this cell to show the HTML representation or trust the notebook. <br />On GitHub, the HTML representation is unable to render, please try loading this page with nbviewer.org.</b></div><div class=\"sk-container\" hidden><div class=\"sk-item\"><div class=\"sk-estimator sk-toggleable\"><input class=\"sk-toggleable__control sk-hidden--visually\" id=\"sk-estimator-id-2\" type=\"checkbox\" checked><label for=\"sk-estimator-id-2\" class=\"sk-toggleable__label sk-toggleable__label-arrow\">RandomForestRegressor</label><div class=\"sk-toggleable__content\"><pre>RandomForestRegressor(max_features=30, n_estimators=660, random_state=1)</pre></div></div></div></div></div>"
      ],
      "text/plain": [
       "RandomForestRegressor(max_features=30, n_estimators=660, random_state=1)"
      ]
     },
     "execution_count": 58,
     "metadata": {},
     "output_type": "execute_result"
    }
   ],
   "source": [
    "# Set up Random Forest model\n",
    "rf_model = RandomForestRegressor(max_features=30, n_estimators=660, random_state=1)\n",
    "rf_model.fit(Train, Train_y)"
   ]
  },
  {
   "cell_type": "code",
   "execution_count": 59,
   "id": "912cb712-7266-4abf-b1bc-fa765dc90fed",
   "metadata": {
    "tags": []
   },
   "outputs": [],
   "source": [
    "pred_rf = rf_model.predict(Test)"
   ]
  },
  {
   "cell_type": "code",
   "execution_count": 60,
   "id": "24d2533a-220d-434a-844c-59a9241b5365",
   "metadata": {
    "tags": []
   },
   "outputs": [],
   "source": [
    "# Get the MAE and RMSE values of models as criteria. \n",
    "MAE_rf = mean_absolute_error(Test_y, pred_rf)\n",
    "rmse_rf = np.sqrt(mean_squared_error(Test_y, pred_rf))"
   ]
  },
  {
   "cell_type": "code",
   "execution_count": 61,
   "id": "5569a899-79cb-40d7-b355-2f057271936c",
   "metadata": {
    "tags": []
   },
   "outputs": [
    {
     "name": "stdout",
     "output_type": "stream",
     "text": [
      "The Random Forest MAE is: 3588.448959862265\n",
      "The Random Forest RMSE is: 5724.511531635298\n"
     ]
    }
   ],
   "source": [
    "print(\"The Random Forest MAE is:\", MAE_rf)\n",
    "print(\"The Random Forest RMSE is:\", rmse_rf)"
   ]
  },
  {
   "cell_type": "code",
   "execution_count": 62,
   "id": "b402e446-5bec-4102-af89-f4ef75741251",
   "metadata": {
    "tags": []
   },
   "outputs": [
    {
     "name": "stdout",
     "output_type": "stream",
     "text": [
      "Random Forest model train score: 0.916681769679073\n",
      "Random Forest model test score: 0.3639158814066271\n"
     ]
    }
   ],
   "source": [
    "# Get the R-squared scores to see the fitness of data to the model\n",
    "rf_train_score=rf_model.score(Train, Train_y)\n",
    "rf_test_score=rf_model.score(Test,Test_y)\n",
    "print(f\"Random Forest model train score: {rf_train_score}\")\n",
    "print(f\"Random Forest model test score: {rf_test_score}\")"
   ]
  },
  {
   "cell_type": "markdown",
   "id": "0324a5c6-4e18-4742-8c55-19838bccf8bf",
   "metadata": {},
   "source": [
    "#### 3.6 Boosting Model"
   ]
  },
  {
   "cell_type": "code",
   "execution_count": 63,
   "id": "d774ef6a-948b-42db-9fb7-88cdaded2c45",
   "metadata": {
    "tags": []
   },
   "outputs": [
    {
     "data": {
      "text/html": [
       "<style>#sk-container-id-3 {color: black;}#sk-container-id-3 pre{padding: 0;}#sk-container-id-3 div.sk-toggleable {background-color: white;}#sk-container-id-3 label.sk-toggleable__label {cursor: pointer;display: block;width: 100%;margin-bottom: 0;padding: 0.3em;box-sizing: border-box;text-align: center;}#sk-container-id-3 label.sk-toggleable__label-arrow:before {content: \"▸\";float: left;margin-right: 0.25em;color: #696969;}#sk-container-id-3 label.sk-toggleable__label-arrow:hover:before {color: black;}#sk-container-id-3 div.sk-estimator:hover label.sk-toggleable__label-arrow:before {color: black;}#sk-container-id-3 div.sk-toggleable__content {max-height: 0;max-width: 0;overflow: hidden;text-align: left;background-color: #f0f8ff;}#sk-container-id-3 div.sk-toggleable__content pre {margin: 0.2em;color: black;border-radius: 0.25em;background-color: #f0f8ff;}#sk-container-id-3 input.sk-toggleable__control:checked~div.sk-toggleable__content {max-height: 200px;max-width: 100%;overflow: auto;}#sk-container-id-3 input.sk-toggleable__control:checked~label.sk-toggleable__label-arrow:before {content: \"▾\";}#sk-container-id-3 div.sk-estimator input.sk-toggleable__control:checked~label.sk-toggleable__label {background-color: #d4ebff;}#sk-container-id-3 div.sk-label input.sk-toggleable__control:checked~label.sk-toggleable__label {background-color: #d4ebff;}#sk-container-id-3 input.sk-hidden--visually {border: 0;clip: rect(1px 1px 1px 1px);clip: rect(1px, 1px, 1px, 1px);height: 1px;margin: -1px;overflow: hidden;padding: 0;position: absolute;width: 1px;}#sk-container-id-3 div.sk-estimator {font-family: monospace;background-color: #f0f8ff;border: 1px dotted black;border-radius: 0.25em;box-sizing: border-box;margin-bottom: 0.5em;}#sk-container-id-3 div.sk-estimator:hover {background-color: #d4ebff;}#sk-container-id-3 div.sk-parallel-item::after {content: \"\";width: 100%;border-bottom: 1px solid gray;flex-grow: 1;}#sk-container-id-3 div.sk-label:hover label.sk-toggleable__label {background-color: #d4ebff;}#sk-container-id-3 div.sk-serial::before {content: \"\";position: absolute;border-left: 1px solid gray;box-sizing: border-box;top: 0;bottom: 0;left: 50%;z-index: 0;}#sk-container-id-3 div.sk-serial {display: flex;flex-direction: column;align-items: center;background-color: white;padding-right: 0.2em;padding-left: 0.2em;position: relative;}#sk-container-id-3 div.sk-item {position: relative;z-index: 1;}#sk-container-id-3 div.sk-parallel {display: flex;align-items: stretch;justify-content: center;background-color: white;position: relative;}#sk-container-id-3 div.sk-item::before, #sk-container-id-3 div.sk-parallel-item::before {content: \"\";position: absolute;border-left: 1px solid gray;box-sizing: border-box;top: 0;bottom: 0;left: 50%;z-index: -1;}#sk-container-id-3 div.sk-parallel-item {display: flex;flex-direction: column;z-index: 1;position: relative;background-color: white;}#sk-container-id-3 div.sk-parallel-item:first-child::after {align-self: flex-end;width: 50%;}#sk-container-id-3 div.sk-parallel-item:last-child::after {align-self: flex-start;width: 50%;}#sk-container-id-3 div.sk-parallel-item:only-child::after {width: 0;}#sk-container-id-3 div.sk-dashed-wrapped {border: 1px dashed gray;margin: 0 0.4em 0.5em 0.4em;box-sizing: border-box;padding-bottom: 0.4em;background-color: white;}#sk-container-id-3 div.sk-label label {font-family: monospace;font-weight: bold;display: inline-block;line-height: 1.2em;}#sk-container-id-3 div.sk-label-container {text-align: center;}#sk-container-id-3 div.sk-container {/* jupyter's `normalize.less` sets `[hidden] { display: none; }` but bootstrap.min.css set `[hidden] { display: none !important; }` so we also need the `!important` here to be able to override the default hidden behavior on the sphinx rendered scikit-learn.org. See: https://github.com/scikit-learn/scikit-learn/issues/21755 */display: inline-block !important;position: relative;}#sk-container-id-3 div.sk-text-repr-fallback {display: none;}</style><div id=\"sk-container-id-3\" class=\"sk-top-container\"><div class=\"sk-text-repr-fallback\"><pre>GradientBoostingRegressor(learning_rate=0.01, n_estimators=4000, random_state=1)</pre><b>In a Jupyter environment, please rerun this cell to show the HTML representation or trust the notebook. <br />On GitHub, the HTML representation is unable to render, please try loading this page with nbviewer.org.</b></div><div class=\"sk-container\" hidden><div class=\"sk-item\"><div class=\"sk-estimator sk-toggleable\"><input class=\"sk-toggleable__control sk-hidden--visually\" id=\"sk-estimator-id-3\" type=\"checkbox\" checked><label for=\"sk-estimator-id-3\" class=\"sk-toggleable__label sk-toggleable__label-arrow\">GradientBoostingRegressor</label><div class=\"sk-toggleable__content\"><pre>GradientBoostingRegressor(learning_rate=0.01, n_estimators=4000, random_state=1)</pre></div></div></div></div></div>"
      ],
      "text/plain": [
       "GradientBoostingRegressor(learning_rate=0.01, n_estimators=4000, random_state=1)"
      ]
     },
     "execution_count": 63,
     "metadata": {},
     "output_type": "execute_result"
    }
   ],
   "source": [
    "# Set up Boosting model and fit the model by train data\n",
    "boost_model = GradientBoostingRegressor(n_estimators=4000, learning_rate=0.01,random_state=1)\n",
    "boost_model.fit(Train, Train_y)"
   ]
  },
  {
   "cell_type": "code",
   "execution_count": 64,
   "id": "eee73965-415a-44a0-9e57-88f9745d4bcd",
   "metadata": {
    "tags": []
   },
   "outputs": [],
   "source": [
    "pred_boost = boost_model.predict(Test)"
   ]
  },
  {
   "cell_type": "code",
   "execution_count": 65,
   "id": "0c98f0e7-f09b-4619-957c-68c79ee1b479",
   "metadata": {
    "tags": []
   },
   "outputs": [],
   "source": [
    "# Get the MAE and RMSE values of models as criteria. \n",
    "MAE_bm = mean_absolute_error(Test_y, pred_boost)\n",
    "rmse_boosting = np.sqrt(mean_squared_error(Test_y, pred_boost))"
   ]
  },
  {
   "cell_type": "code",
   "execution_count": 66,
   "id": "4e5a3f70-93c4-4ffb-beb3-b03e91ea6e1b",
   "metadata": {
    "tags": []
   },
   "outputs": [
    {
     "name": "stdout",
     "output_type": "stream",
     "text": [
      "The Boosting Model MAE is: 3547.3580336007863\n",
      "The Boosting Model RMSE is: 5827.796412199414\n"
     ]
    }
   ],
   "source": [
    "print(\"The Boosting Model MAE is:\", MAE_bm)\n",
    "print(\"The Boosting Model RMSE is:\", rmse_boosting)"
   ]
  },
  {
   "cell_type": "code",
   "execution_count": 67,
   "id": "2af9074a-bfdd-4c36-9c50-39ce32498c4a",
   "metadata": {
    "tags": []
   },
   "outputs": [
    {
     "name": "stdout",
     "output_type": "stream",
     "text": [
      "Boosting model train score: 0.79321691174947\n",
      "Boosting model test score: 0.3407556341195701\n"
     ]
    }
   ],
   "source": [
    "# Get the R-squared scores to see the fitness of data to the model\n",
    "bm_train_score=boost_model.score(Train, Train_y)\n",
    "bm_test_score=boost_model.score(Test,Test_y)\n",
    "print(f\"Boosting model train score: {bm_train_score}\")\n",
    "print(f\"Boosting model test score: {bm_test_score}\")"
   ]
  },
  {
   "cell_type": "markdown",
   "id": "9d6010fc-65d7-4f7b-8923-394970821de4",
   "metadata": {
    "tags": []
   },
   "source": [
    "#### 3.7 Neural Nets"
   ]
  },
  {
   "cell_type": "code",
   "execution_count": 68,
   "id": "e2af0681-704c-47d5-9a96-62460c13a100",
   "metadata": {
    "tags": []
   },
   "outputs": [],
   "source": [
    "# Set up Netual Net model and fit the model by train data\n",
    "multi_layer_network = tf.keras.Sequential([\n",
    "    tf.keras.layers.Dense(units=128, activation='relu', input_shape=(Train.shape[1],)),\n",
    "    tf.keras.layers.Dense(units=64, activation='relu'),\n",
    "    tf.keras.layers.Dense(units=1, activation='sigmoid')\n",
    "])\n",
    "\n",
    "multi_layer_network.compile(optimizer='adam', loss='binary_crossentropy', metrics=['accuracy'])"
   ]
  },
  {
   "cell_type": "code",
   "execution_count": 69,
   "id": "ec4bfb62-2f74-41ee-a8e1-94e73912979e",
   "metadata": {
    "tags": []
   },
   "outputs": [
    {
     "name": "stdout",
     "output_type": "stream",
     "text": [
      "Epoch 1/25\n",
      "16/16 [==============================] - 0s 4ms/step - loss: -675942592.0000 - accuracy: 0.0000e+00 - val_loss: -1369255040.0000 - val_accuracy: 0.0000e+00\n",
      "Epoch 2/25\n",
      "16/16 [==============================] - 0s 1ms/step - loss: -1875549312.0000 - accuracy: 0.0000e+00 - val_loss: -2868676608.0000 - val_accuracy: 0.0000e+00\n",
      "Epoch 3/25\n",
      "16/16 [==============================] - 0s 1ms/step - loss: -3605465600.0000 - accuracy: 0.0000e+00 - val_loss: -5240405504.0000 - val_accuracy: 0.0000e+00\n",
      "Epoch 4/25\n",
      "16/16 [==============================] - 0s 991us/step - loss: -6394009600.0000 - accuracy: 0.0000e+00 - val_loss: -9097597952.0000 - val_accuracy: 0.0000e+00\n",
      "Epoch 5/25\n",
      "16/16 [==============================] - 0s 1ms/step - loss: -10977244160.0000 - accuracy: 0.0000e+00 - val_loss: -15300344832.0000 - val_accuracy: 0.0000e+00\n",
      "Epoch 6/25\n",
      "16/16 [==============================] - 0s 989us/step - loss: -18041886720.0000 - accuracy: 0.0000e+00 - val_loss: -24450719744.0000 - val_accuracy: 0.0000e+00\n",
      "Epoch 7/25\n",
      "16/16 [==============================] - 0s 1ms/step - loss: -28314718208.0000 - accuracy: 0.0000e+00 - val_loss: -37598773248.0000 - val_accuracy: 0.0000e+00\n",
      "Epoch 8/25\n",
      "16/16 [==============================] - 0s 1ms/step - loss: -42693599232.0000 - accuracy: 0.0000e+00 - val_loss: -55510708224.0000 - val_accuracy: 0.0000e+00\n",
      "Epoch 9/25\n",
      "16/16 [==============================] - 0s 1ms/step - loss: -62198362112.0000 - accuracy: 0.0000e+00 - val_loss: -80107356160.0000 - val_accuracy: 0.0000e+00\n",
      "Epoch 10/25\n",
      "16/16 [==============================] - 0s 1ms/step - loss: -88651063296.0000 - accuracy: 0.0000e+00 - val_loss: -112513236992.0000 - val_accuracy: 0.0000e+00\n",
      "Epoch 11/25\n",
      "16/16 [==============================] - 0s 1ms/step - loss: -123393843200.0000 - accuracy: 0.0000e+00 - val_loss: -153855393792.0000 - val_accuracy: 0.0000e+00\n",
      "Epoch 12/25\n",
      "16/16 [==============================] - 0s 1ms/step - loss: -165547294720.0000 - accuracy: 0.0000e+00 - val_loss: -204233474048.0000 - val_accuracy: 0.0000e+00\n",
      "Epoch 13/25\n",
      "16/16 [==============================] - 0s 1ms/step - loss: -218091896832.0000 - accuracy: 0.0000e+00 - val_loss: -265019015168.0000 - val_accuracy: 0.0000e+00\n",
      "Epoch 14/25\n",
      "16/16 [==============================] - 0s 997us/step - loss: -280920621056.0000 - accuracy: 0.0000e+00 - val_loss: -338568019968.0000 - val_accuracy: 0.0000e+00\n",
      "Epoch 15/25\n",
      "16/16 [==============================] - 0s 1ms/step - loss: -354108440576.0000 - accuracy: 0.0000e+00 - val_loss: -421954519040.0000 - val_accuracy: 0.0000e+00\n",
      "Epoch 16/25\n",
      "16/16 [==============================] - 0s 1000us/step - loss: -439690854400.0000 - accuracy: 0.0000e+00 - val_loss: -520728838144.0000 - val_accuracy: 0.0000e+00\n",
      "Epoch 17/25\n",
      "16/16 [==============================] - 0s 989us/step - loss: -540264628224.0000 - accuracy: 0.0000e+00 - val_loss: -633630228480.0000 - val_accuracy: 0.0000e+00\n",
      "Epoch 18/25\n",
      "16/16 [==============================] - 0s 1ms/step - loss: -653458210816.0000 - accuracy: 0.0000e+00 - val_loss: -762927579136.0000 - val_accuracy: 0.0000e+00\n",
      "Epoch 19/25\n",
      "16/16 [==============================] - 0s 1ms/step - loss: -783513616384.0000 - accuracy: 0.0000e+00 - val_loss: -911110569984.0000 - val_accuracy: 0.0000e+00\n",
      "Epoch 20/25\n",
      "16/16 [==============================] - 0s 1ms/step - loss: -929200930816.0000 - accuracy: 0.0000e+00 - val_loss: -1070243381248.0000 - val_accuracy: 0.0000e+00\n",
      "Epoch 21/25\n",
      "16/16 [==============================] - 0s 986us/step - loss: -1091212804096.0000 - accuracy: 0.0000e+00 - val_loss: -1254297174016.0000 - val_accuracy: 0.0000e+00\n",
      "Epoch 22/25\n",
      "16/16 [==============================] - 0s 1ms/step - loss: -1274189709312.0000 - accuracy: 0.0000e+00 - val_loss: -1457872699392.0000 - val_accuracy: 0.0000e+00\n",
      "Epoch 23/25\n",
      "16/16 [==============================] - 0s 1ms/step - loss: -1473665695744.0000 - accuracy: 0.0000e+00 - val_loss: -1679290400768.0000 - val_accuracy: 0.0000e+00\n",
      "Epoch 24/25\n",
      "16/16 [==============================] - 0s 1ms/step - loss: -1689175064576.0000 - accuracy: 0.0000e+00 - val_loss: -1914447593472.0000 - val_accuracy: 0.0000e+00\n",
      "Epoch 25/25\n",
      "16/16 [==============================] - 0s 1ms/step - loss: -1919522570240.0000 - accuracy: 0.0000e+00 - val_loss: -2169901023232.0000 - val_accuracy: 0.0000e+00\n"
     ]
    },
    {
     "data": {
      "text/plain": [
       "<keras.src.callbacks.History at 0x17fd33110>"
      ]
     },
     "execution_count": 69,
     "metadata": {},
     "output_type": "execute_result"
    }
   ],
   "source": [
    "multi_layer_network.fit(Train, Train_y, epochs=25, batch_size=65, validation_split=0.1)"
   ]
  },
  {
   "cell_type": "code",
   "execution_count": 70,
   "id": "65752682-c8b3-42b0-9082-ac0f353422e6",
   "metadata": {
    "tags": []
   },
   "outputs": [
    {
     "name": "stdout",
     "output_type": "stream",
     "text": [
      "15/15 [==============================] - 0s 332us/step\n"
     ]
    }
   ],
   "source": [
    "pred_nn = multi_layer_network.predict(Test)"
   ]
  },
  {
   "cell_type": "code",
   "execution_count": 71,
   "id": "3bfd9339-0add-4bb5-a6e3-988e602c4281",
   "metadata": {
    "tags": []
   },
   "outputs": [],
   "source": [
    "# Get the MAE and RMSE values of models as criteria. \n",
    "MAE_nn = mean_absolute_error(Test_y, pred_nn)\n",
    "rmse_nn = np.sqrt(mean_squared_error(Test_y, pred_nn))"
   ]
  },
  {
   "cell_type": "code",
   "execution_count": 72,
   "id": "e4cbc4c3-c0e1-4d16-af67-0de24713b5ba",
   "metadata": {
    "tags": []
   },
   "outputs": [
    {
     "name": "stdout",
     "output_type": "stream",
     "text": [
      "The Netual Nets MAE is: 15982.742489270386\n",
      "The Netual Nets MSE is: 17520.45808580588\n"
     ]
    }
   ],
   "source": [
    "print(\"The Netual Nets MAE is:\", MAE_nn)\n",
    "print(\"The Netual Nets MSE is:\", rmse_nn)"
   ]
  },
  {
   "cell_type": "markdown",
   "id": "23fd21b6-feb1-4593-83ba-534e3241bd81",
   "metadata": {},
   "source": [
    "#### 3.8 Compare models and select the most appropriate one"
   ]
  },
  {
   "cell_type": "code",
   "execution_count": 73,
   "id": "58d7bf20-2655-4901-afab-7cdac946cf70",
   "metadata": {
    "tags": []
   },
   "outputs": [
    {
     "data": {
      "text/html": [
       "<div>\n",
       "<style scoped>\n",
       "    .dataframe tbody tr th:only-of-type {\n",
       "        vertical-align: middle;\n",
       "    }\n",
       "\n",
       "    .dataframe tbody tr th {\n",
       "        vertical-align: top;\n",
       "    }\n",
       "\n",
       "    .dataframe thead th {\n",
       "        text-align: right;\n",
       "    }\n",
       "</style>\n",
       "<table border=\"1\" class=\"dataframe\">\n",
       "  <thead>\n",
       "    <tr style=\"text-align: right;\">\n",
       "      <th></th>\n",
       "      <th>Models</th>\n",
       "      <th>MAE</th>\n",
       "      <th>RMSE</th>\n",
       "    </tr>\n",
       "  </thead>\n",
       "  <tbody>\n",
       "    <tr>\n",
       "      <th>6</th>\n",
       "      <td>Neural Nets</td>\n",
       "      <td>15982.742489</td>\n",
       "      <td>17520.458086</td>\n",
       "    </tr>\n",
       "    <tr>\n",
       "      <th>3</th>\n",
       "      <td>Logistic Model</td>\n",
       "      <td>4135.939914</td>\n",
       "      <td>6323.570306</td>\n",
       "    </tr>\n",
       "    <tr>\n",
       "      <th>0</th>\n",
       "      <td>OLS Regression</td>\n",
       "      <td>3725.289428</td>\n",
       "      <td>5677.129794</td>\n",
       "    </tr>\n",
       "    <tr>\n",
       "      <th>1</th>\n",
       "      <td>Lasso Model</td>\n",
       "      <td>3684.643534</td>\n",
       "      <td>5630.314141</td>\n",
       "    </tr>\n",
       "    <tr>\n",
       "      <th>4</th>\n",
       "      <td>Random Forest</td>\n",
       "      <td>3588.448960</td>\n",
       "      <td>5724.511532</td>\n",
       "    </tr>\n",
       "    <tr>\n",
       "      <th>5</th>\n",
       "      <td>Boosting Model</td>\n",
       "      <td>3547.358034</td>\n",
       "      <td>5827.796412</td>\n",
       "    </tr>\n",
       "    <tr>\n",
       "      <th>2</th>\n",
       "      <td>CART Model</td>\n",
       "      <td>3389.330472</td>\n",
       "      <td>5574.576101</td>\n",
       "    </tr>\n",
       "  </tbody>\n",
       "</table>\n",
       "</div>"
      ],
      "text/plain": [
       "           Models           MAE          RMSE\n",
       "6     Neural Nets  15982.742489  17520.458086\n",
       "3  Logistic Model   4135.939914   6323.570306\n",
       "0  OLS Regression   3725.289428   5677.129794\n",
       "1     Lasso Model   3684.643534   5630.314141\n",
       "4   Random Forest   3588.448960   5724.511532\n",
       "5  Boosting Model   3547.358034   5827.796412\n",
       "2      CART Model   3389.330472   5574.576101"
      ]
     },
     "execution_count": 73,
     "metadata": {},
     "output_type": "execute_result"
    }
   ],
   "source": [
    "MAE = pd.DataFrame({'Models': [\"OLS Regression\",\"Lasso Model\", \"CART Model\", \"Logistic Model\",\"Random Forest\", \"Boosting Model\", \"Neural Nets\"],\n",
    "                     'MAE':[MAE_OLS,MAE_LASSO,MAE_CART, MAE_logistic, MAE_rf, MAE_bm, MAE_nn],\n",
    "                    'RMSE':[rmse_OLS,rmse_LASSO,rmse_CART, rmse_logistic, rmse_rf, rmse_boosting, rmse_nn]})\n",
    "MAE.sort_values(by=['MAE','RMSE'],ascending =False)"
   ]
  },
  {
   "cell_type": "code",
   "execution_count": 74,
   "id": "f458e75e-6b47-4072-bfa0-58ab9fcbb975",
   "metadata": {
    "tags": []
   },
   "outputs": [
    {
     "data": {
      "text/html": [
       "<div>\n",
       "<style scoped>\n",
       "    .dataframe tbody tr th:only-of-type {\n",
       "        vertical-align: middle;\n",
       "    }\n",
       "\n",
       "    .dataframe tbody tr th {\n",
       "        vertical-align: top;\n",
       "    }\n",
       "\n",
       "    .dataframe thead th {\n",
       "        text-align: right;\n",
       "    }\n",
       "</style>\n",
       "<table border=\"1\" class=\"dataframe\">\n",
       "  <thead>\n",
       "    <tr style=\"text-align: right;\">\n",
       "      <th></th>\n",
       "      <th>Models</th>\n",
       "      <th>R_Squared_train</th>\n",
       "      <th>R_Squared_test</th>\n",
       "    </tr>\n",
       "  </thead>\n",
       "  <tbody>\n",
       "    <tr>\n",
       "      <th>3</th>\n",
       "      <td>Logistic Model</td>\n",
       "      <td>0.048848</td>\n",
       "      <td>0.038627</td>\n",
       "    </tr>\n",
       "    <tr>\n",
       "      <th>2</th>\n",
       "      <td>CART Model</td>\n",
       "      <td>0.076498</td>\n",
       "      <td>0.030043</td>\n",
       "    </tr>\n",
       "    <tr>\n",
       "      <th>1</th>\n",
       "      <td>Lasso Model</td>\n",
       "      <td>0.435889</td>\n",
       "      <td>0.384677</td>\n",
       "    </tr>\n",
       "    <tr>\n",
       "      <th>0</th>\n",
       "      <td>OLS Regression</td>\n",
       "      <td>0.442058</td>\n",
       "      <td>0.374402</td>\n",
       "    </tr>\n",
       "    <tr>\n",
       "      <th>5</th>\n",
       "      <td>Boosting Model</td>\n",
       "      <td>0.793217</td>\n",
       "      <td>0.340756</td>\n",
       "    </tr>\n",
       "    <tr>\n",
       "      <th>4</th>\n",
       "      <td>Random Forest</td>\n",
       "      <td>0.916682</td>\n",
       "      <td>0.363916</td>\n",
       "    </tr>\n",
       "  </tbody>\n",
       "</table>\n",
       "</div>"
      ],
      "text/plain": [
       "           Models  R_Squared_train  R_Squared_test\n",
       "3  Logistic Model         0.048848        0.038627\n",
       "2      CART Model         0.076498        0.030043\n",
       "1     Lasso Model         0.435889        0.384677\n",
       "0  OLS Regression         0.442058        0.374402\n",
       "5  Boosting Model         0.793217        0.340756\n",
       "4   Random Forest         0.916682        0.363916"
      ]
     },
     "execution_count": 74,
     "metadata": {},
     "output_type": "execute_result"
    }
   ],
   "source": [
    "R_Squared = pd.DataFrame({'Models': [\"OLS Regression\",\"Lasso Model\", \"CART Model\", \"Logistic Model\",\"Random Forest\", \"Boosting Model\"],\n",
    "                     'R_Squared_train':[OLS_train_score,LASSO_train_score,CART_train_score,Logistic_train_score,rf_train_score,bm_train_score],\n",
    "                      'R_Squared_test':[OLS_test_score,LASSO_test_score,CART_test_score,Logistic_test_score,rf_test_score,bm_test_score]})\n",
    "R_Squared.sort_values(by=['R_Squared_train','R_Squared_test'],ascending =True)"
   ]
  },
  {
   "cell_type": "markdown",
   "id": "daa2d4c1-95d0-4c55-8ec3-b33c605bb4cf",
   "metadata": {},
   "source": [
    "##### Here, it can be seen that CART Model has the least MAE and RMSE value between predicted \"price\" value and real \"price\" value in the test_inner data. However, the R-Squared_train value and R-Squared_test value of this model is very low. When I look back on the Random Forest model and Boosting Model, I find that the MAE and RMSE value of them are close, but Random Forest model has higher R-Squared_train value and R-Squared_test value. Therefore, choose Random Forest Model to predict the \"price\" in the given test data is the most appropriate. "
   ]
  },
  {
   "cell_type": "markdown",
   "id": "2393d628-5391-46ee-9095-064920481429",
   "metadata": {},
   "source": [
    "### 4. Make prediction for given test data by using the Random Forest model"
   ]
  },
  {
   "cell_type": "code",
   "execution_count": 75,
   "id": "130b109d-bece-44c9-84a7-02f316ac676e",
   "metadata": {
    "tags": []
   },
   "outputs": [],
   "source": [
    "test_data[['motor_type_diesel','motor_type_hybrid','color_golden','color_pink','color_purple','type_minivan / minibus','type_pickup','status_new','status_normal']]=0"
   ]
  },
  {
   "cell_type": "code",
   "execution_count": 76,
   "id": "a192872e-a9a9-41c5-a75d-e38ff722efe3",
   "metadata": {
    "tags": []
   },
   "outputs": [],
   "source": [
    "# Set up the train data and test data\n",
    "Train2 = train_data.drop(columns = ['price']).values\n",
    "Train_y2 = train_data['price'].values\n",
    "Test2 = test_data.values"
   ]
  },
  {
   "cell_type": "code",
   "execution_count": 77,
   "id": "2149fa21-5533-45d1-b315-8965b848f2b9",
   "metadata": {
    "tags": []
   },
   "outputs": [
    {
     "data": {
      "text/html": [
       "<style>#sk-container-id-4 {color: black;}#sk-container-id-4 pre{padding: 0;}#sk-container-id-4 div.sk-toggleable {background-color: white;}#sk-container-id-4 label.sk-toggleable__label {cursor: pointer;display: block;width: 100%;margin-bottom: 0;padding: 0.3em;box-sizing: border-box;text-align: center;}#sk-container-id-4 label.sk-toggleable__label-arrow:before {content: \"▸\";float: left;margin-right: 0.25em;color: #696969;}#sk-container-id-4 label.sk-toggleable__label-arrow:hover:before {color: black;}#sk-container-id-4 div.sk-estimator:hover label.sk-toggleable__label-arrow:before {color: black;}#sk-container-id-4 div.sk-toggleable__content {max-height: 0;max-width: 0;overflow: hidden;text-align: left;background-color: #f0f8ff;}#sk-container-id-4 div.sk-toggleable__content pre {margin: 0.2em;color: black;border-radius: 0.25em;background-color: #f0f8ff;}#sk-container-id-4 input.sk-toggleable__control:checked~div.sk-toggleable__content {max-height: 200px;max-width: 100%;overflow: auto;}#sk-container-id-4 input.sk-toggleable__control:checked~label.sk-toggleable__label-arrow:before {content: \"▾\";}#sk-container-id-4 div.sk-estimator input.sk-toggleable__control:checked~label.sk-toggleable__label {background-color: #d4ebff;}#sk-container-id-4 div.sk-label input.sk-toggleable__control:checked~label.sk-toggleable__label {background-color: #d4ebff;}#sk-container-id-4 input.sk-hidden--visually {border: 0;clip: rect(1px 1px 1px 1px);clip: rect(1px, 1px, 1px, 1px);height: 1px;margin: -1px;overflow: hidden;padding: 0;position: absolute;width: 1px;}#sk-container-id-4 div.sk-estimator {font-family: monospace;background-color: #f0f8ff;border: 1px dotted black;border-radius: 0.25em;box-sizing: border-box;margin-bottom: 0.5em;}#sk-container-id-4 div.sk-estimator:hover {background-color: #d4ebff;}#sk-container-id-4 div.sk-parallel-item::after {content: \"\";width: 100%;border-bottom: 1px solid gray;flex-grow: 1;}#sk-container-id-4 div.sk-label:hover label.sk-toggleable__label {background-color: #d4ebff;}#sk-container-id-4 div.sk-serial::before {content: \"\";position: absolute;border-left: 1px solid gray;box-sizing: border-box;top: 0;bottom: 0;left: 50%;z-index: 0;}#sk-container-id-4 div.sk-serial {display: flex;flex-direction: column;align-items: center;background-color: white;padding-right: 0.2em;padding-left: 0.2em;position: relative;}#sk-container-id-4 div.sk-item {position: relative;z-index: 1;}#sk-container-id-4 div.sk-parallel {display: flex;align-items: stretch;justify-content: center;background-color: white;position: relative;}#sk-container-id-4 div.sk-item::before, #sk-container-id-4 div.sk-parallel-item::before {content: \"\";position: absolute;border-left: 1px solid gray;box-sizing: border-box;top: 0;bottom: 0;left: 50%;z-index: -1;}#sk-container-id-4 div.sk-parallel-item {display: flex;flex-direction: column;z-index: 1;position: relative;background-color: white;}#sk-container-id-4 div.sk-parallel-item:first-child::after {align-self: flex-end;width: 50%;}#sk-container-id-4 div.sk-parallel-item:last-child::after {align-self: flex-start;width: 50%;}#sk-container-id-4 div.sk-parallel-item:only-child::after {width: 0;}#sk-container-id-4 div.sk-dashed-wrapped {border: 1px dashed gray;margin: 0 0.4em 0.5em 0.4em;box-sizing: border-box;padding-bottom: 0.4em;background-color: white;}#sk-container-id-4 div.sk-label label {font-family: monospace;font-weight: bold;display: inline-block;line-height: 1.2em;}#sk-container-id-4 div.sk-label-container {text-align: center;}#sk-container-id-4 div.sk-container {/* jupyter's `normalize.less` sets `[hidden] { display: none; }` but bootstrap.min.css set `[hidden] { display: none !important; }` so we also need the `!important` here to be able to override the default hidden behavior on the sphinx rendered scikit-learn.org. See: https://github.com/scikit-learn/scikit-learn/issues/21755 */display: inline-block !important;position: relative;}#sk-container-id-4 div.sk-text-repr-fallback {display: none;}</style><div id=\"sk-container-id-4\" class=\"sk-top-container\"><div class=\"sk-text-repr-fallback\"><pre>RandomForestRegressor(max_features=30, n_estimators=660, random_state=1)</pre><b>In a Jupyter environment, please rerun this cell to show the HTML representation or trust the notebook. <br />On GitHub, the HTML representation is unable to render, please try loading this page with nbviewer.org.</b></div><div class=\"sk-container\" hidden><div class=\"sk-item\"><div class=\"sk-estimator sk-toggleable\"><input class=\"sk-toggleable__control sk-hidden--visually\" id=\"sk-estimator-id-4\" type=\"checkbox\" checked><label for=\"sk-estimator-id-4\" class=\"sk-toggleable__label sk-toggleable__label-arrow\">RandomForestRegressor</label><div class=\"sk-toggleable__content\"><pre>RandomForestRegressor(max_features=30, n_estimators=660, random_state=1)</pre></div></div></div></div></div>"
      ],
      "text/plain": [
       "RandomForestRegressor(max_features=30, n_estimators=660, random_state=1)"
      ]
     },
     "execution_count": 77,
     "metadata": {},
     "output_type": "execute_result"
    }
   ],
   "source": [
    "rf_model = RandomForestRegressor(max_features=30, n_estimators=660, random_state=1)\n",
    "rf_model.fit(Train2, Train_y2)"
   ]
  },
  {
   "cell_type": "code",
   "execution_count": 78,
   "id": "a93a4dcd-fac1-4f8f-99bf-d6bcc6428aee",
   "metadata": {
    "tags": []
   },
   "outputs": [],
   "source": [
    "pred_rf = rf_model.predict(Test2)"
   ]
  },
  {
   "cell_type": "code",
   "execution_count": 79,
   "id": "16ee79fd-37aa-433e-b611-d6c3b9e15877",
   "metadata": {
    "tags": []
   },
   "outputs": [],
   "source": [
    "submission_test=pd.read_csv('test.csv')"
   ]
  },
  {
   "cell_type": "code",
   "execution_count": 80,
   "id": "4a9af204-685f-4255-bb3c-b9870e239b70",
   "metadata": {
    "tags": []
   },
   "outputs": [],
   "source": [
    "submission= pd.DataFrame({'Id': submission_test.Id,'price': pred_rf})"
   ]
  },
  {
   "cell_type": "code",
   "execution_count": 81,
   "id": "a95a776a-4275-44d3-8108-c6af6de37e16",
   "metadata": {
    "tags": []
   },
   "outputs": [
    {
     "data": {
      "text/html": [
       "<div>\n",
       "<style scoped>\n",
       "    .dataframe tbody tr th:only-of-type {\n",
       "        vertical-align: middle;\n",
       "    }\n",
       "\n",
       "    .dataframe tbody tr th {\n",
       "        vertical-align: top;\n",
       "    }\n",
       "\n",
       "    .dataframe thead th {\n",
       "        text-align: right;\n",
       "    }\n",
       "</style>\n",
       "<table border=\"1\" class=\"dataframe\">\n",
       "  <thead>\n",
       "    <tr style=\"text-align: right;\">\n",
       "      <th></th>\n",
       "      <th>Id</th>\n",
       "      <th>price</th>\n",
       "    </tr>\n",
       "  </thead>\n",
       "  <tbody>\n",
       "    <tr>\n",
       "      <th>0</th>\n",
       "      <td>0</td>\n",
       "      <td>20273.257576</td>\n",
       "    </tr>\n",
       "    <tr>\n",
       "      <th>1</th>\n",
       "      <td>1</td>\n",
       "      <td>16962.348485</td>\n",
       "    </tr>\n",
       "    <tr>\n",
       "      <th>2</th>\n",
       "      <td>2</td>\n",
       "      <td>24998.578788</td>\n",
       "    </tr>\n",
       "    <tr>\n",
       "      <th>3</th>\n",
       "      <td>3</td>\n",
       "      <td>19356.590909</td>\n",
       "    </tr>\n",
       "    <tr>\n",
       "      <th>4</th>\n",
       "      <td>4</td>\n",
       "      <td>6429.446970</td>\n",
       "    </tr>\n",
       "    <tr>\n",
       "      <th>...</th>\n",
       "      <td>...</td>\n",
       "      <td>...</td>\n",
       "    </tr>\n",
       "    <tr>\n",
       "      <th>406</th>\n",
       "      <td>406</td>\n",
       "      <td>24288.272727</td>\n",
       "    </tr>\n",
       "    <tr>\n",
       "      <th>407</th>\n",
       "      <td>407</td>\n",
       "      <td>23312.954545</td>\n",
       "    </tr>\n",
       "    <tr>\n",
       "      <th>408</th>\n",
       "      <td>408</td>\n",
       "      <td>11652.651515</td>\n",
       "    </tr>\n",
       "    <tr>\n",
       "      <th>409</th>\n",
       "      <td>409</td>\n",
       "      <td>18084.909091</td>\n",
       "    </tr>\n",
       "    <tr>\n",
       "      <th>410</th>\n",
       "      <td>410</td>\n",
       "      <td>14820.378788</td>\n",
       "    </tr>\n",
       "  </tbody>\n",
       "</table>\n",
       "<p>411 rows × 2 columns</p>\n",
       "</div>"
      ],
      "text/plain": [
       "      Id         price\n",
       "0      0  20273.257576\n",
       "1      1  16962.348485\n",
       "2      2  24998.578788\n",
       "3      3  19356.590909\n",
       "4      4   6429.446970\n",
       "..   ...           ...\n",
       "406  406  24288.272727\n",
       "407  407  23312.954545\n",
       "408  408  11652.651515\n",
       "409  409  18084.909091\n",
       "410  410  14820.378788\n",
       "\n",
       "[411 rows x 2 columns]"
      ]
     },
     "execution_count": 81,
     "metadata": {},
     "output_type": "execute_result"
    }
   ],
   "source": [
    "submission"
   ]
  },
  {
   "cell_type": "code",
   "execution_count": 82,
   "id": "9b9180b1-e1c7-4e01-bbc0-03e1409584b5",
   "metadata": {
    "tags": []
   },
   "outputs": [],
   "source": [
    "# Save the submission file\n",
    "submission.to_csv('submission.csv',index=False)"
   ]
  }
 ],
 "metadata": {
  "kernelspec": {
   "display_name": "Python 3 (ipykernel)",
   "language": "python",
   "name": "python3"
  },
  "language_info": {
   "codemirror_mode": {
    "name": "ipython",
    "version": 3
   },
   "file_extension": ".py",
   "mimetype": "text/x-python",
   "name": "python",
   "nbconvert_exporter": "python",
   "pygments_lexer": "ipython3",
   "version": "3.11.5"
  }
 },
 "nbformat": 4,
 "nbformat_minor": 5
}
